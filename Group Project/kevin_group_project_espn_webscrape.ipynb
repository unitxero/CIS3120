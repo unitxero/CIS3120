{
 "cells": [
  {
   "cell_type": "code",
   "execution_count": 2,
   "metadata": {
    "collapsed": true
   },
   "outputs": [],
   "source": [
    "from bs4 import BeautifulSoup\n",
    "import requests\n",
    "import pandas as pd"
   ]
  },
  {
   "cell_type": "code",
   "execution_count": 3,
   "outputs": [],
   "source": [
    "# url from ESPN to retrieve \"Team leaders\" of New York Knicks\n",
    "url = 'https://www.espn.com/nba/team/stats/_/name/ny/new-york-knicks'\n",
    "\n",
    "r = requests.get(url)\n",
    "\n",
    "soup = BeautifulSoup(r.content, 'html.parser')\n",
    "\n",
    "results = soup.find(id='fitt-analytics')"
   ],
   "metadata": {
    "collapsed": false,
    "pycharm": {
     "name": "#%%\n"
    }
   }
  },
  {
   "cell_type": "code",
   "execution_count": 60,
   "outputs": [],
   "source": [
    "team_leader_results = results.find('section', class_ = 'StatLeaders flex')"
   ],
   "metadata": {
    "collapsed": false,
    "pycharm": {
     "name": "#%%\n"
    }
   }
  },
  {
   "cell_type": "code",
   "execution_count": 73,
   "outputs": [
    {
     "data": {
      "text/plain": "[<span class=\"Athlete__PlayerName\">Julius Randle</span>,\n <span class=\"Athlete__PlayerName\">Julius Randle</span>,\n <span class=\"Athlete__PlayerName\">Julius Randle</span>,\n <span class=\"Athlete__PlayerName\">Alec Burks</span>,\n <span class=\"Athlete__PlayerName\">Mitchell Robinson</span>]"
     },
     "execution_count": 73,
     "metadata": {},
     "output_type": "execute_result"
    }
   ],
   "source": [
    "player_name = team_leader_results.find_all('span', class_ = 'Athlete__PlayerName')\n",
    "\n",
    "player_name"
   ],
   "metadata": {
    "collapsed": false,
    "pycharm": {
     "name": "#%%\n"
    }
   }
  },
  {
   "cell_type": "code",
   "execution_count": 75,
   "outputs": [
    {
     "data": {
      "text/plain": "[<h2 class=\"h8 mb2 clr-gray-03\">Points</h2>,\n <h2 class=\"h8 mb2 clr-gray-03\">Rebounds</h2>,\n <h2 class=\"h8 mb2 clr-gray-03\">Assists</h2>,\n <h2 class=\"h8 mb2 clr-gray-03\">Steals</h2>,\n <h2 class=\"h8 mb2 clr-gray-03\">Blocks</h2>]"
     },
     "execution_count": 75,
     "metadata": {},
     "output_type": "execute_result"
    }
   ],
   "source": [
    "role_lead = team_leader_results.find_all('h2', class_ = 'h8 mb2 clr-gray-03')\n",
    "role_lead"
   ],
   "metadata": {
    "collapsed": false,
    "pycharm": {
     "name": "#%%\n"
    }
   }
  },
  {
   "cell_type": "code",
   "execution_count": 101,
   "outputs": [
    {
     "data": {
      "text/plain": "[<span class=\"Athlete__NameDetails ml2 clr-gray-04 di ns9\">PF</span>,\n <span class=\"Athlete__NameDetails ml2 clr-gray-04 di ns9\">PF</span>,\n <span class=\"Athlete__NameDetails ml2 clr-gray-04 di ns9\">PF</span>,\n <span class=\"Athlete__NameDetails ml2 clr-gray-04 di ns9\">SG</span>,\n <span class=\"Athlete__NameDetails ml2 clr-gray-04 di ns9\">C</span>]"
     },
     "execution_count": 101,
     "metadata": {},
     "output_type": "execute_result"
    }
   ],
   "source": [
    "player_position = team_leader_results.find_all('span', class_ = 'Athlete__NameDetails ml2 clr-gray-04 di ns9')\n",
    "player_position"
   ],
   "metadata": {
    "collapsed": false,
    "pycharm": {
     "name": "#%%\n"
    }
   }
  },
  {
   "cell_type": "code",
   "execution_count": 77,
   "outputs": [
    {
     "data": {
      "text/plain": "[<div class=\"clr-gray-01 pr3 hs2\">20.1</div>,\n <div class=\"clr-gray-01 pr3 hs2\">9.9</div>,\n <div class=\"clr-gray-01 pr3 hs2\">5.1</div>,\n <div class=\"clr-gray-01 pr3 hs2\">1.0</div>,\n <div class=\"clr-gray-01 pr3 hs2\">1.8</div>]"
     },
     "execution_count": 77,
     "metadata": {},
     "output_type": "execute_result"
    }
   ],
   "source": [
    "points = team_leader_results.find_all('div', class_=\"clr-gray-01 pr3 hs2\")\n",
    "points"
   ],
   "metadata": {
    "collapsed": false,
    "pycharm": {
     "name": "#%%\n"
    }
   }
  },
  {
   "cell_type": "code",
   "execution_count": 117,
   "outputs": [],
   "source": [
    "# In this section the text is taken and saved into a list, in the appropriate data type\n",
    "# to create a Pandas data frame this is for the 2021-22 season of team leaders\n",
    "\n",
    "points_list_rs = []\n",
    "\n",
    "for score in points:\n",
    "    points_list_rs.append(float(score.text))\n",
    "\n",
    "player_list_rs = []\n",
    "\n",
    "for name in player_name:\n",
    "    player_list_rs.append(name.text)\n",
    "\n",
    "role_lead_list_rs = []\n",
    "\n",
    "for role in role_lead:\n",
    "    role_lead_list_rs.append(role.text)\n",
    "\n",
    "player_position_list_rs = []\n",
    "\n",
    "for position in player_position:\n",
    "    player_position_list_rs.append(position.text)"
   ],
   "metadata": {
    "collapsed": false,
    "pycharm": {
     "name": "#%%\n"
    }
   }
  },
  {
   "cell_type": "code",
   "execution_count": 127,
   "outputs": [
    {
     "data": {
      "text/plain": "                Name Position Leading Category  Points Per Game\n0      Julius Randle       PF           Points             20.1\n1      Julius Randle       PF         Rebounds              9.9\n2      Julius Randle       PF          Assists              5.1\n3         Alec Burks       SG           Steals              1.0\n4  Mitchell Robinson        C           Blocks              1.8",
      "text/html": "<div>\n<style scoped>\n    .dataframe tbody tr th:only-of-type {\n        vertical-align: middle;\n    }\n\n    .dataframe tbody tr th {\n        vertical-align: top;\n    }\n\n    .dataframe thead th {\n        text-align: right;\n    }\n</style>\n<table border=\"1\" class=\"dataframe\">\n  <thead>\n    <tr style=\"text-align: right;\">\n      <th></th>\n      <th>Name</th>\n      <th>Position</th>\n      <th>Leading Category</th>\n      <th>Points Per Game</th>\n    </tr>\n  </thead>\n  <tbody>\n    <tr>\n      <th>0</th>\n      <td>Julius Randle</td>\n      <td>PF</td>\n      <td>Points</td>\n      <td>20.1</td>\n    </tr>\n    <tr>\n      <th>1</th>\n      <td>Julius Randle</td>\n      <td>PF</td>\n      <td>Rebounds</td>\n      <td>9.9</td>\n    </tr>\n    <tr>\n      <th>2</th>\n      <td>Julius Randle</td>\n      <td>PF</td>\n      <td>Assists</td>\n      <td>5.1</td>\n    </tr>\n    <tr>\n      <th>3</th>\n      <td>Alec Burks</td>\n      <td>SG</td>\n      <td>Steals</td>\n      <td>1.0</td>\n    </tr>\n    <tr>\n      <th>4</th>\n      <td>Mitchell Robinson</td>\n      <td>C</td>\n      <td>Blocks</td>\n      <td>1.8</td>\n    </tr>\n  </tbody>\n</table>\n</div>"
     },
     "execution_count": 127,
     "metadata": {},
     "output_type": "execute_result"
    }
   ],
   "source": [
    "# Creating a Pandas Dataframe from lists made previously for 2021-22 season\n",
    "\n",
    "zip_prep = list(zip(player_list_rs, player_position_list_rs, role_lead_list_rs, points_list_rs))\n",
    "\n",
    "df_2021_22 = pd.DataFrame(zip_prep, columns=['Name', 'Position', 'Leading Category', 'Points Per Game'])\n",
    "\n",
    "df_2021_22"
   ],
   "metadata": {
    "collapsed": false,
    "pycharm": {
     "name": "#%%\n"
    }
   }
  },
  {
   "cell_type": "code",
   "execution_count": 137,
   "outputs": [
    {
     "data": {
      "text/plain": "            Name Position Leading Category  Points Per Game\n0  Julius Randle       PF           Points             24.1\n1  Julius Randle       PF         Rebounds             10.2\n2  Julius Randle       PF          Assists              6.0\n3   Nerlens Noel        C           Steals              1.1\n4   Nerlens Noel        C           Blocks              2.2",
      "text/html": "<div>\n<style scoped>\n    .dataframe tbody tr th:only-of-type {\n        vertical-align: middle;\n    }\n\n    .dataframe tbody tr th {\n        vertical-align: top;\n    }\n\n    .dataframe thead th {\n        text-align: right;\n    }\n</style>\n<table border=\"1\" class=\"dataframe\">\n  <thead>\n    <tr style=\"text-align: right;\">\n      <th></th>\n      <th>Name</th>\n      <th>Position</th>\n      <th>Leading Category</th>\n      <th>Points Per Game</th>\n    </tr>\n  </thead>\n  <tbody>\n    <tr>\n      <th>0</th>\n      <td>Julius Randle</td>\n      <td>PF</td>\n      <td>Points</td>\n      <td>24.1</td>\n    </tr>\n    <tr>\n      <th>1</th>\n      <td>Julius Randle</td>\n      <td>PF</td>\n      <td>Rebounds</td>\n      <td>10.2</td>\n    </tr>\n    <tr>\n      <th>2</th>\n      <td>Julius Randle</td>\n      <td>PF</td>\n      <td>Assists</td>\n      <td>6.0</td>\n    </tr>\n    <tr>\n      <th>3</th>\n      <td>Nerlens Noel</td>\n      <td>C</td>\n      <td>Steals</td>\n      <td>1.1</td>\n    </tr>\n    <tr>\n      <th>4</th>\n      <td>Nerlens Noel</td>\n      <td>C</td>\n      <td>Blocks</td>\n      <td>2.2</td>\n    </tr>\n  </tbody>\n</table>\n</div>"
     },
     "execution_count": 137,
     "metadata": {},
     "output_type": "execute_result"
    }
   ],
   "source": [
    "'''\n",
    "New York Knick Stats 2020-21 Regular Season\n",
    "'''\n",
    "\n",
    "url2020_21 = 'https://www.espn.com/nba/team/stats/_/name/ny/season/2021/seasontype/2'\n",
    "\n",
    "r2 = requests.get(url2020_21)\n",
    "\n",
    "soup2 = BeautifulSoup(r2.content, 'html.parser')\n",
    "\n",
    "results2 = soup2.find(id='fittPageContainer')\n",
    "\n",
    "team_leader_results2 = results2.find('section', class_ = 'StatLeaders flex')\n",
    "\n",
    "player_name2 = team_leader_results2.find_all('span', class_ = 'Athlete__PlayerName')\n",
    "\n",
    "role_lead2 = team_leader_results2.find_all('h2', class_ = 'h8 mb2 clr-gray-03')\n",
    "\n",
    "player_position2 = team_leader_results2.find_all('span', class_ = 'Athlete__NameDetails ml2 clr-gray-04 di ns9')\n",
    "\n",
    "\n",
    "points2 = team_leader_results2.find_all('div', class_=\"clr-gray-01 pr3 hs2\")\n",
    "\n",
    "\n",
    "points_list_rs2 = []\n",
    "\n",
    "for score in points2:\n",
    "    points_list_rs2.append(float(score.text))\n",
    "\n",
    "player_list_rs2 = []\n",
    "\n",
    "for name in player_name2:\n",
    "    player_list_rs2.append(name.text)\n",
    "\n",
    "role_lead_list_rs2 = []\n",
    "\n",
    "for role in role_lead2:\n",
    "    role_lead_list_rs2.append(role.text)\n",
    "\n",
    "player_position_list_rs2 = []\n",
    "\n",
    "for position in player_position2:\n",
    "    player_position_list_rs2.append(position.text)\n",
    "\n",
    "zip_prep2 = list(zip(player_list_rs2, player_position_list_rs2, role_lead_list_rs2, points_list_rs2))\n",
    "\n",
    "df_2020_21 = pd.DataFrame(zip_prep2, columns=['Name', 'Position', 'Leading Category', 'Points Per Game'])\n",
    "\n",
    "df_2020_21"
   ],
   "metadata": {
    "collapsed": false,
    "pycharm": {
     "name": "#%%\n"
    }
   }
  },
  {
   "cell_type": "code",
   "execution_count": 138,
   "outputs": [
    {
     "data": {
      "text/plain": "                Name Position Leading Category  Points Per Game\n0      Julius Randle       PF           Points             19.5\n1      Julius Randle       PF         Rebounds              9.7\n2      Julius Randle       PF          Assists              3.1\n3         RJ Barrett       SG           Steals              1.0\n4  Mitchell Robinson        C           Blocks              2.0",
      "text/html": "<div>\n<style scoped>\n    .dataframe tbody tr th:only-of-type {\n        vertical-align: middle;\n    }\n\n    .dataframe tbody tr th {\n        vertical-align: top;\n    }\n\n    .dataframe thead th {\n        text-align: right;\n    }\n</style>\n<table border=\"1\" class=\"dataframe\">\n  <thead>\n    <tr style=\"text-align: right;\">\n      <th></th>\n      <th>Name</th>\n      <th>Position</th>\n      <th>Leading Category</th>\n      <th>Points Per Game</th>\n    </tr>\n  </thead>\n  <tbody>\n    <tr>\n      <th>0</th>\n      <td>Julius Randle</td>\n      <td>PF</td>\n      <td>Points</td>\n      <td>19.5</td>\n    </tr>\n    <tr>\n      <th>1</th>\n      <td>Julius Randle</td>\n      <td>PF</td>\n      <td>Rebounds</td>\n      <td>9.7</td>\n    </tr>\n    <tr>\n      <th>2</th>\n      <td>Julius Randle</td>\n      <td>PF</td>\n      <td>Assists</td>\n      <td>3.1</td>\n    </tr>\n    <tr>\n      <th>3</th>\n      <td>RJ Barrett</td>\n      <td>SG</td>\n      <td>Steals</td>\n      <td>1.0</td>\n    </tr>\n    <tr>\n      <th>4</th>\n      <td>Mitchell Robinson</td>\n      <td>C</td>\n      <td>Blocks</td>\n      <td>2.0</td>\n    </tr>\n  </tbody>\n</table>\n</div>"
     },
     "execution_count": 138,
     "metadata": {},
     "output_type": "execute_result"
    }
   ],
   "source": [
    "'''\n",
    "New York Knick Stats 2019-20 Regular Season\n",
    "'''\n",
    "\n",
    "url2019_20 = 'https://www.espn.com/nba/team/stats/_/name/ny/season/2020/seasontype/2'\n",
    "\n",
    "r3 = requests.get(url2019_20)\n",
    "\n",
    "soup3 = BeautifulSoup(r3.content, 'html.parser')\n",
    "\n",
    "results3 = soup3.find(id='fittPageContainer')\n",
    "\n",
    "team_leader_results3 = results3.find('section', class_ = 'StatLeaders flex')\n",
    "\n",
    "player_name3 = team_leader_results3.find_all('span', class_ = 'Athlete__PlayerName')\n",
    "\n",
    "role_lead3 = team_leader_results3.find_all('h2', class_ = 'h8 mb2 clr-gray-03')\n",
    "\n",
    "player_position3 = team_leader_results3.find_all('span', class_ = 'Athlete__NameDetails ml2 clr-gray-04 di ns9')\n",
    "\n",
    "\n",
    "points3 = team_leader_results3.find_all('div', class_=\"clr-gray-01 pr3 hs2\")\n",
    "\n",
    "\n",
    "points_list_rs3 = []\n",
    "\n",
    "for score in points3:\n",
    "    points_list_rs3.append(float(score.text))\n",
    "\n",
    "player_list_rs3 = []\n",
    "\n",
    "for name in player_name3:\n",
    "    player_list_rs3.append(name.text)\n",
    "\n",
    "role_lead_list_rs3 = []\n",
    "\n",
    "for role in role_lead3:\n",
    "    role_lead_list_rs3.append(role.text)\n",
    "\n",
    "player_position_list_rs3 = []\n",
    "\n",
    "for position in player_position3:\n",
    "    player_position_list_rs3.append(position.text)\n",
    "\n",
    "zip_prep3 = list(zip(player_list_rs3, player_position_list_rs3, role_lead_list_rs3, points_list_rs3))\n",
    "\n",
    "df_2019_20 = pd.DataFrame(zip_prep3, columns=['Name', 'Position', 'Leading Category', 'Points Per Game'])\n",
    "\n",
    "df_2019_20\n"
   ],
   "metadata": {
    "collapsed": false,
    "pycharm": {
     "name": "#%%\n"
    }
   }
  },
  {
   "cell_type": "code",
   "execution_count": 139,
   "outputs": [
    {
     "data": {
      "text/plain": "'Name,Position,Leading Category,Points Per Game\\nJulius Randle,PF,Points,19.5\\nJulius Randle,PF,Rebounds,9.7\\nJulius Randle,PF,Assists,3.1\\nRJ Barrett,SG,Steals,1.0\\nMitchell Robinson,C,Blocks,2.0\\n'"
     },
     "execution_count": 139,
     "metadata": {},
     "output_type": "execute_result"
    }
   ],
   "source": [
    "df_2019_20.to_csv(index=False)\n"
   ],
   "metadata": {
    "collapsed": false,
    "pycharm": {
     "name": "#%%\n"
    }
   }
  },
  {
   "cell_type": "code",
   "execution_count": null,
   "outputs": [],
   "source": [],
   "metadata": {
    "collapsed": false,
    "pycharm": {
     "name": "#%%\n"
    }
   }
  }
 ],
 "metadata": {
  "kernelspec": {
   "display_name": "Python 3",
   "language": "python",
   "name": "python3"
  },
  "language_info": {
   "codemirror_mode": {
    "name": "ipython",
    "version": 2
   },
   "file_extension": ".py",
   "mimetype": "text/x-python",
   "name": "python",
   "nbconvert_exporter": "python",
   "pygments_lexer": "ipython2",
   "version": "2.7.6"
  }
 },
 "nbformat": 4,
 "nbformat_minor": 0
}