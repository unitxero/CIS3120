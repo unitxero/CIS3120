{
 "cells": [
  {
   "cell_type": "code",
   "execution_count": 2,
   "metadata": {
    "collapsed": true
   },
   "outputs": [],
   "source": [
    "from bs4 import BeautifulSoup\n",
    "import requests\n",
    "import pandas as pd"
   ]
  },
  {
   "cell_type": "code",
   "execution_count": 3,
   "outputs": [],
   "source": [
    "# url from ESPN to retrieve \"Team leaders\" of New York Knicks\n",
    "url = 'https://www.espn.com/nba/team/stats/_/name/ny/new-york-knicks'\n",
    "\n",
    "r = requests.get(url)\n",
    "\n",
    "soup = BeautifulSoup(r.content, 'html.parser')\n",
    "\n",
    "results = soup.find(id='fitt-analytics')"
   ],
   "metadata": {
    "collapsed": false,
    "pycharm": {
     "name": "#%%\n"
    }
   }
  },
  {
   "cell_type": "code",
   "execution_count": 60,
   "outputs": [],
   "source": [
    "team_leader_results = results.find('section', class_ = 'StatLeaders flex')"
   ],
   "metadata": {
    "collapsed": false,
    "pycharm": {
     "name": "#%%\n"
    }
   }
  },
  {
   "cell_type": "code",
   "execution_count": 73,
   "outputs": [
    {
     "data": {
      "text/plain": "[<span class=\"Athlete__PlayerName\">Julius Randle</span>,\n <span class=\"Athlete__PlayerName\">Julius Randle</span>,\n <span class=\"Athlete__PlayerName\">Julius Randle</span>,\n <span class=\"Athlete__PlayerName\">Alec Burks</span>,\n <span class=\"Athlete__PlayerName\">Mitchell Robinson</span>]"
     },
     "execution_count": 73,
     "metadata": {},
     "output_type": "execute_result"
    }
   ],
   "source": [
    "player_name = team_leader_results.find_all('span', class_ = 'Athlete__PlayerName')\n",
    "\n",
    "player_name"
   ],
   "metadata": {
    "collapsed": false,
    "pycharm": {
     "name": "#%%\n"
    }
   }
  },
  {
   "cell_type": "code",
   "execution_count": 75,
   "outputs": [
    {
     "data": {
      "text/plain": "[<h2 class=\"h8 mb2 clr-gray-03\">Points</h2>,\n <h2 class=\"h8 mb2 clr-gray-03\">Rebounds</h2>,\n <h2 class=\"h8 mb2 clr-gray-03\">Assists</h2>,\n <h2 class=\"h8 mb2 clr-gray-03\">Steals</h2>,\n <h2 class=\"h8 mb2 clr-gray-03\">Blocks</h2>]"
     },
     "execution_count": 75,
     "metadata": {},
     "output_type": "execute_result"
    }
   ],
   "source": [
    "role_lead = team_leader_results.find_all('h2', class_ = 'h8 mb2 clr-gray-03')\n",
    "role_lead"
   ],
   "metadata": {
    "collapsed": false,
    "pycharm": {
     "name": "#%%\n"
    }
   }
  },
  {
   "cell_type": "code",
   "execution_count": 101,
   "outputs": [
    {
     "data": {
      "text/plain": "[<span class=\"Athlete__NameDetails ml2 clr-gray-04 di ns9\">PF</span>,\n <span class=\"Athlete__NameDetails ml2 clr-gray-04 di ns9\">PF</span>,\n <span class=\"Athlete__NameDetails ml2 clr-gray-04 di ns9\">PF</span>,\n <span class=\"Athlete__NameDetails ml2 clr-gray-04 di ns9\">SG</span>,\n <span class=\"Athlete__NameDetails ml2 clr-gray-04 di ns9\">C</span>]"
     },
     "execution_count": 101,
     "metadata": {},
     "output_type": "execute_result"
    }
   ],
   "source": [
    "player_position = team_leader_results.find_all('span', class_ = 'Athlete__NameDetails ml2 clr-gray-04 di ns9')\n",
    "player_position"
   ],
   "metadata": {
    "collapsed": false,
    "pycharm": {
     "name": "#%%\n"
    }
   }
  },
  {
   "cell_type": "code",
   "execution_count": 77,
   "outputs": [
    {
     "data": {
      "text/plain": "[<div class=\"clr-gray-01 pr3 hs2\">20.1</div>,\n <div class=\"clr-gray-01 pr3 hs2\">9.9</div>,\n <div class=\"clr-gray-01 pr3 hs2\">5.1</div>,\n <div class=\"clr-gray-01 pr3 hs2\">1.0</div>,\n <div class=\"clr-gray-01 pr3 hs2\">1.8</div>]"
     },
     "execution_count": 77,
     "metadata": {},
     "output_type": "execute_result"
    }
   ],
   "source": [
    "points = team_leader_results.find_all('div', class_=\"clr-gray-01 pr3 hs2\")\n",
    "points"
   ],
   "metadata": {
    "collapsed": false,
    "pycharm": {
     "name": "#%%\n"
    }
   }
  },
  {
   "cell_type": "code",
   "execution_count": 117,
   "outputs": [],
   "source": [
    "# In this section the text is taken and saved into a list, in the appropriate data type\n",
    "# to create a Pandas data frame this is for the 2021-22 season of team leaders\n",
    "\n",
    "points_list_rs = []\n",
    "\n",
    "for score in points:\n",
    "    points_list_rs.append(float(score.text))\n",
    "\n",
    "player_list_rs = []\n",
    "\n",
    "for name in player_name:\n",
    "    player_list_rs.append(name.text)\n",
    "\n",
    "role_lead_list_rs = []\n",
    "\n",
    "for role in role_lead:\n",
    "    role_lead_list_rs.append(role.text)\n",
    "\n",
    "player_position_list_rs = []\n",
    "\n",
    "for position in player_position:\n",
    "    player_position_list_rs.append(position.text)"
   ],
   "metadata": {
    "collapsed": false,
    "pycharm": {
     "name": "#%%\n"
    }
   }
  },
  {
   "cell_type": "code",
   "execution_count": 127,
   "outputs": [
    {
     "data": {
      "text/plain": "                Name Position Leading Category  Points Per Game\n0      Julius Randle       PF           Points             20.1\n1      Julius Randle       PF         Rebounds              9.9\n2      Julius Randle       PF          Assists              5.1\n3         Alec Burks       SG           Steals              1.0\n4  Mitchell Robinson        C           Blocks              1.8",
      "text/html": "<div>\n<style scoped>\n    .dataframe tbody tr th:only-of-type {\n        vertical-align: middle;\n    }\n\n    .dataframe tbody tr th {\n        vertical-align: top;\n    }\n\n    .dataframe thead th {\n        text-align: right;\n    }\n</style>\n<table border=\"1\" class=\"dataframe\">\n  <thead>\n    <tr style=\"text-align: right;\">\n      <th></th>\n      <th>Name</th>\n      <th>Position</th>\n      <th>Leading Category</th>\n      <th>Points Per Game</th>\n    </tr>\n  </thead>\n  <tbody>\n    <tr>\n      <th>0</th>\n      <td>Julius Randle</td>\n      <td>PF</td>\n      <td>Points</td>\n      <td>20.1</td>\n    </tr>\n    <tr>\n      <th>1</th>\n      <td>Julius Randle</td>\n      <td>PF</td>\n      <td>Rebounds</td>\n      <td>9.9</td>\n    </tr>\n    <tr>\n      <th>2</th>\n      <td>Julius Randle</td>\n      <td>PF</td>\n      <td>Assists</td>\n      <td>5.1</td>\n    </tr>\n    <tr>\n      <th>3</th>\n      <td>Alec Burks</td>\n      <td>SG</td>\n      <td>Steals</td>\n      <td>1.0</td>\n    </tr>\n    <tr>\n      <th>4</th>\n      <td>Mitchell Robinson</td>\n      <td>C</td>\n      <td>Blocks</td>\n      <td>1.8</td>\n    </tr>\n  </tbody>\n</table>\n</div>"
     },
     "execution_count": 127,
     "metadata": {},
     "output_type": "execute_result"
    }
   ],
   "source": [
    "# Creating a Pandas Dataframe from lists made previously for 2021-22 season\n",
    "\n",
    "zip_prep = list(zip(player_list_rs, player_position_list_rs, role_lead_list_rs, points_list_rs))\n",
    "\n",
    "df_2021_22 = pd.DataFrame(zip_prep, columns=['Name', 'Position', 'Leading Category', 'Points Per Game'])\n",
    "\n",
    "df_2021_22"
   ],
   "metadata": {
    "collapsed": false,
    "pycharm": {
     "name": "#%%\n"
    }
   }
  },
  {
   "cell_type": "code",
   "execution_count": null,
   "outputs": [],
   "source": [],
   "metadata": {
    "collapsed": false,
    "pycharm": {
     "name": "#%%\n"
    }
   }
  },
  {
   "cell_type": "code",
   "execution_count": 137,
   "outputs": [
    {
     "data": {
      "text/plain": "            Name Position Leading Category  Points Per Game\n0  Julius Randle       PF           Points             24.1\n1  Julius Randle       PF         Rebounds             10.2\n2  Julius Randle       PF          Assists              6.0\n3   Nerlens Noel        C           Steals              1.1\n4   Nerlens Noel        C           Blocks              2.2",
      "text/html": "<div>\n<style scoped>\n    .dataframe tbody tr th:only-of-type {\n        vertical-align: middle;\n    }\n\n    .dataframe tbody tr th {\n        vertical-align: top;\n    }\n\n    .dataframe thead th {\n        text-align: right;\n    }\n</style>\n<table border=\"1\" class=\"dataframe\">\n  <thead>\n    <tr style=\"text-align: right;\">\n      <th></th>\n      <th>Name</th>\n      <th>Position</th>\n      <th>Leading Category</th>\n      <th>Points Per Game</th>\n    </tr>\n  </thead>\n  <tbody>\n    <tr>\n      <th>0</th>\n      <td>Julius Randle</td>\n      <td>PF</td>\n      <td>Points</td>\n      <td>24.1</td>\n    </tr>\n    <tr>\n      <th>1</th>\n      <td>Julius Randle</td>\n      <td>PF</td>\n      <td>Rebounds</td>\n      <td>10.2</td>\n    </tr>\n    <tr>\n      <th>2</th>\n      <td>Julius Randle</td>\n      <td>PF</td>\n      <td>Assists</td>\n      <td>6.0</td>\n    </tr>\n    <tr>\n      <th>3</th>\n      <td>Nerlens Noel</td>\n      <td>C</td>\n      <td>Steals</td>\n      <td>1.1</td>\n    </tr>\n    <tr>\n      <th>4</th>\n      <td>Nerlens Noel</td>\n      <td>C</td>\n      <td>Blocks</td>\n      <td>2.2</td>\n    </tr>\n  </tbody>\n</table>\n</div>"
     },
     "execution_count": 137,
     "metadata": {},
     "output_type": "execute_result"
    }
   ],
   "source": [
    "'''\n",
    "New York Knick Stats 2020-21 Regular Season\n",
    "'''\n",
    "\n",
    "url2020_21 = 'https://www.espn.com/nba/team/stats/_/name/ny/season/2021/seasontype/2'\n",
    "\n",
    "r2 = requests.get(url2020_21)\n",
    "\n",
    "soup2 = BeautifulSoup(r2.content, 'html.parser')\n",
    "\n",
    "results2 = soup2.find(id='fittPageContainer')\n",
    "\n",
    "team_leader_results2 = results2.find('section', class_ = 'StatLeaders flex')\n",
    "\n",
    "player_name2 = team_leader_results2.find_all('span', class_ = 'Athlete__PlayerName')\n",
    "\n",
    "role_lead2 = team_leader_results2.find_all('h2', class_ = 'h8 mb2 clr-gray-03')\n",
    "\n",
    "player_position2 = team_leader_results2.find_all('span', class_ = 'Athlete__NameDetails ml2 clr-gray-04 di ns9')\n",
    "\n",
    "\n",
    "points2 = team_leader_results2.find_all('div', class_=\"clr-gray-01 pr3 hs2\")\n",
    "\n",
    "\n",
    "points_list_rs2 = []\n",
    "\n",
    "for score in points2:\n",
    "    points_list_rs2.append(float(score.text))\n",
    "\n",
    "player_list_rs2 = []\n",
    "\n",
    "for name in player_name2:\n",
    "    player_list_rs2.append(name.text)\n",
    "\n",
    "role_lead_list_rs2 = []\n",
    "\n",
    "for role in role_lead2:\n",
    "    role_lead_list_rs2.append(role.text)\n",
    "\n",
    "player_position_list_rs2 = []\n",
    "\n",
    "for position in player_position2:\n",
    "    player_position_list_rs2.append(position.text)\n",
    "\n",
    "zip_prep2 = list(zip(player_list_rs2, player_position_list_rs2, role_lead_list_rs2, points_list_rs2))\n",
    "\n",
    "df_2020_21 = pd.DataFrame(zip_prep2, columns=['Name', 'Position', 'Leading Category', 'Points Per Game'])\n",
    "\n",
    "df_2020_21"
   ],
   "metadata": {
    "collapsed": false,
    "pycharm": {
     "name": "#%%\n"
    }
   }
  },
  {
   "cell_type": "code",
   "execution_count": null,
   "outputs": [],
   "source": [],
   "metadata": {
    "collapsed": false,
    "pycharm": {
     "name": "#%%\n"
    }
   }
  },
  {
   "cell_type": "code",
   "execution_count": 138,
   "outputs": [
    {
     "data": {
      "text/plain": "                Name Position Leading Category  Points Per Game\n0      Julius Randle       PF           Points             19.5\n1      Julius Randle       PF         Rebounds              9.7\n2      Julius Randle       PF          Assists              3.1\n3         RJ Barrett       SG           Steals              1.0\n4  Mitchell Robinson        C           Blocks              2.0",
      "text/html": "<div>\n<style scoped>\n    .dataframe tbody tr th:only-of-type {\n        vertical-align: middle;\n    }\n\n    .dataframe tbody tr th {\n        vertical-align: top;\n    }\n\n    .dataframe thead th {\n        text-align: right;\n    }\n</style>\n<table border=\"1\" class=\"dataframe\">\n  <thead>\n    <tr style=\"text-align: right;\">\n      <th></th>\n      <th>Name</th>\n      <th>Position</th>\n      <th>Leading Category</th>\n      <th>Points Per Game</th>\n    </tr>\n  </thead>\n  <tbody>\n    <tr>\n      <th>0</th>\n      <td>Julius Randle</td>\n      <td>PF</td>\n      <td>Points</td>\n      <td>19.5</td>\n    </tr>\n    <tr>\n      <th>1</th>\n      <td>Julius Randle</td>\n      <td>PF</td>\n      <td>Rebounds</td>\n      <td>9.7</td>\n    </tr>\n    <tr>\n      <th>2</th>\n      <td>Julius Randle</td>\n      <td>PF</td>\n      <td>Assists</td>\n      <td>3.1</td>\n    </tr>\n    <tr>\n      <th>3</th>\n      <td>RJ Barrett</td>\n      <td>SG</td>\n      <td>Steals</td>\n      <td>1.0</td>\n    </tr>\n    <tr>\n      <th>4</th>\n      <td>Mitchell Robinson</td>\n      <td>C</td>\n      <td>Blocks</td>\n      <td>2.0</td>\n    </tr>\n  </tbody>\n</table>\n</div>"
     },
     "execution_count": 138,
     "metadata": {},
     "output_type": "execute_result"
    }
   ],
   "source": [
    "'''\n",
    "New York Knick Stats 2019-20 Regular Season\n",
    "'''\n",
    "\n",
    "url2019_20 = 'https://www.espn.com/nba/team/stats/_/name/ny/season/2020/seasontype/2'\n",
    "\n",
    "r3 = requests.get(url2019_20)\n",
    "\n",
    "soup3 = BeautifulSoup(r3.content, 'html.parser')\n",
    "\n",
    "results3 = soup3.find(id='fittPageContainer')\n",
    "\n",
    "team_leader_results3 = results3.find('section', class_ = 'StatLeaders flex')\n",
    "\n",
    "player_name3 = team_leader_results3.find_all('span', class_ = 'Athlete__PlayerName')\n",
    "\n",
    "role_lead3 = team_leader_results3.find_all('h2', class_ = 'h8 mb2 clr-gray-03')\n",
    "\n",
    "player_position3 = team_leader_results3.find_all('span', class_ = 'Athlete__NameDetails ml2 clr-gray-04 di ns9')\n",
    "\n",
    "\n",
    "points3 = team_leader_results3.find_all('div', class_=\"clr-gray-01 pr3 hs2\")\n",
    "\n",
    "\n",
    "points_list_rs3 = []\n",
    "\n",
    "for score in points3:\n",
    "    points_list_rs3.append(float(score.text))\n",
    "\n",
    "player_list_rs3 = []\n",
    "\n",
    "for name in player_name3:\n",
    "    player_list_rs3.append(name.text)\n",
    "\n",
    "role_lead_list_rs3 = []\n",
    "\n",
    "for role in role_lead3:\n",
    "    role_lead_list_rs3.append(role.text)\n",
    "\n",
    "player_position_list_rs3 = []\n",
    "\n",
    "for position in player_position3:\n",
    "    player_position_list_rs3.append(position.text)\n",
    "\n",
    "zip_prep3 = list(zip(player_list_rs3, player_position_list_rs3, role_lead_list_rs3, points_list_rs3))\n",
    "\n",
    "df_2019_20 = pd.DataFrame(zip_prep3, columns=['Name', 'Position', 'Leading Category', 'Points Per Game'])\n",
    "\n",
    "df_2019_20\n"
   ],
   "metadata": {
    "collapsed": false,
    "pycharm": {
     "name": "#%%\n"
    }
   }
  },
  {
   "cell_type": "code",
   "execution_count": 139,
   "outputs": [
    {
     "data": {
      "text/plain": "'Name,Position,Leading Category,Points Per Game\\nJulius Randle,PF,Points,19.5\\nJulius Randle,PF,Rebounds,9.7\\nJulius Randle,PF,Assists,3.1\\nRJ Barrett,SG,Steals,1.0\\nMitchell Robinson,C,Blocks,2.0\\n'"
     },
     "execution_count": 139,
     "metadata": {},
     "output_type": "execute_result"
    }
   ],
   "source": [
    "df_2019_20.to_csv(index=False)\n"
   ],
   "metadata": {
    "collapsed": false,
    "pycharm": {
     "name": "#%%\n"
    }
   }
  },
  {
   "cell_type": "code",
   "execution_count": null,
   "outputs": [],
   "source": [
    "'''\n",
    "New York Knick Stats 2019-20 Regular Season\n",
    "'''\n",
    "\n",
    "url2019_20 = 'https://www.espn.com/nba/team/stats/_/name/ny/season/2020/seasontype/2'\n",
    "\n",
    "r3 = requests.get(url2019_20)\n",
    "\n",
    "soup3 = BeautifulSoup(r3.content, 'html.parser')\n",
    "\n",
    "results3 = soup3.find(id='fittPageContainer')\n",
    "\n",
    "team_leader_results3 = results3.find('section', class_ = 'StatLeaders flex')\n",
    "\n",
    "player_name3 = team_leader_results3.find_all('span', class_ = 'Athlete__PlayerName')\n",
    "\n",
    "role_lead3 = team_leader_results3.find_all('h2', class_ = 'h8 mb2 clr-gray-03')\n",
    "\n",
    "player_position3 = team_leader_results3.find_all('span', class_ = 'Athlete__NameDetails ml2 clr-gray-04 di ns9')\n",
    "\n",
    "\n",
    "points3 = team_leader_results3.find_all('div', class_=\"clr-gray-01 pr3 hs2\")\n",
    "\n",
    "\n",
    "points_list_rs3 = []\n",
    "\n",
    "for score in points3:\n",
    "    points_list_rs3.append(float(score.text))\n",
    "\n",
    "player_list_rs3 = []\n",
    "\n",
    "for name in player_name3:\n",
    "    player_list_rs3.append(name.text)\n",
    "\n",
    "role_lead_list_rs3 = []\n",
    "\n",
    "for role in role_lead3:\n",
    "    role_lead_list_rs3.append(role.text)\n",
    "\n",
    "player_position_list_rs3 = []\n",
    "\n",
    "for position in player_position3:\n",
    "    player_position_list_rs3.append(position.text)\n",
    "\n",
    "zip_prep3 = list(zip(player_list_rs3, player_position_list_rs3, role_lead_list_rs3, points_list_rs3))\n",
    "\n",
    "df_2019_20 = pd.DataFrame(zip_prep3, columns=['Name', 'Position', 'Leading Category', 'Points Per Game'])\n",
    "\n",
    "df_2019_20"
   ],
   "metadata": {
    "collapsed": false,
    "pycharm": {
     "name": "#%%\n"
    }
   }
  },
  {
   "cell_type": "code",
   "execution_count": 141,
   "outputs": [
    {
     "data": {
      "text/plain": "                Name Position Leading Category  Points Per Game\n0    Emmanuel Mudiay        G           Points             14.8\n1        Noah Vonleh        F         Rebounds              7.8\n2    Emmanuel Mudiay        G          Assists              3.9\n3      Mario Hezonja        F           Steals              1.0\n4  Mitchell Robinson        C           Blocks              2.4",
      "text/html": "<div>\n<style scoped>\n    .dataframe tbody tr th:only-of-type {\n        vertical-align: middle;\n    }\n\n    .dataframe tbody tr th {\n        vertical-align: top;\n    }\n\n    .dataframe thead th {\n        text-align: right;\n    }\n</style>\n<table border=\"1\" class=\"dataframe\">\n  <thead>\n    <tr style=\"text-align: right;\">\n      <th></th>\n      <th>Name</th>\n      <th>Position</th>\n      <th>Leading Category</th>\n      <th>Points Per Game</th>\n    </tr>\n  </thead>\n  <tbody>\n    <tr>\n      <th>0</th>\n      <td>Emmanuel Mudiay</td>\n      <td>G</td>\n      <td>Points</td>\n      <td>14.8</td>\n    </tr>\n    <tr>\n      <th>1</th>\n      <td>Noah Vonleh</td>\n      <td>F</td>\n      <td>Rebounds</td>\n      <td>7.8</td>\n    </tr>\n    <tr>\n      <th>2</th>\n      <td>Emmanuel Mudiay</td>\n      <td>G</td>\n      <td>Assists</td>\n      <td>3.9</td>\n    </tr>\n    <tr>\n      <th>3</th>\n      <td>Mario Hezonja</td>\n      <td>F</td>\n      <td>Steals</td>\n      <td>1.0</td>\n    </tr>\n    <tr>\n      <th>4</th>\n      <td>Mitchell Robinson</td>\n      <td>C</td>\n      <td>Blocks</td>\n      <td>2.4</td>\n    </tr>\n  </tbody>\n</table>\n</div>"
     },
     "execution_count": 141,
     "metadata": {},
     "output_type": "execute_result"
    }
   ],
   "source": [
    "'''\n",
    "New York Knick Stats 2018-19 Regular Season\n",
    "'''\n",
    "\n",
    "url2018_19 = 'https://www.espn.com/nba/team/stats/_/name/ny/season/2019/seasontype/2'\n",
    "\n",
    "r4 = requests.get(url2018_19)\n",
    "\n",
    "soup4 = BeautifulSoup(r4.content, 'html.parser')\n",
    "\n",
    "results4 = soup4.find(id='fittPageContainer')\n",
    "\n",
    "team_leader_results4 = results4.find('section', class_ = 'StatLeaders flex')\n",
    "\n",
    "player_name4 = team_leader_results4.find_all('span', class_ = 'Athlete__PlayerName')\n",
    "\n",
    "role_lead4 = team_leader_results4.find_all('h2', class_ = 'h8 mb2 clr-gray-03')\n",
    "\n",
    "player_position4 = team_leader_results4.find_all('span', class_ = 'Athlete__NameDetails ml2 clr-gray-04 di ns9')\n",
    "\n",
    "\n",
    "points4 = team_leader_results4.find_all('div', class_=\"clr-gray-01 pr3 hs2\")\n",
    "\n",
    "\n",
    "points_list_rs4 = []\n",
    "\n",
    "for score in points4:\n",
    "    points_list_rs4.append(float(score.text))\n",
    "\n",
    "player_list_rs4 = []\n",
    "\n",
    "for name in player_name4:\n",
    "    player_list_rs4.append(name.text)\n",
    "\n",
    "role_lead_list_rs4 = []\n",
    "\n",
    "for role in role_lead4:\n",
    "    role_lead_list_rs4.append(role.text)\n",
    "\n",
    "player_position_list_rs4 = []\n",
    "\n",
    "for position in player_position4:\n",
    "    player_position_list_rs4.append(position.text)\n",
    "\n",
    "zip_prep4 = list(zip(player_list_rs4, player_position_list_rs4, role_lead_list_rs4, points_list_rs4))\n",
    "\n",
    "df_2018_19 = pd.DataFrame(zip_prep4, columns=['Name', 'Position', 'Leading Category', 'Points Per Game'])\n",
    "\n",
    "df_2018_19"
   ],
   "metadata": {
    "collapsed": false,
    "pycharm": {
     "name": "#%%\n"
    }
   }
  },
  {
   "cell_type": "code",
   "execution_count": 161,
   "outputs": [
    {
     "data": {
      "text/plain": "           Name Position Leading Category  Points Per Game\n0  Enes Freedom        C           Points             14.1\n1  Enes Freedom        C         Rebounds             11.0\n2  Jarrett Jack        G          Assists              5.6\n3  Courtney Lee        G           Steals              1.1\n4  Kyle O'Quinn        C           Blocks              1.3",
      "text/html": "<div>\n<style scoped>\n    .dataframe tbody tr th:only-of-type {\n        vertical-align: middle;\n    }\n\n    .dataframe tbody tr th {\n        vertical-align: top;\n    }\n\n    .dataframe thead th {\n        text-align: right;\n    }\n</style>\n<table border=\"1\" class=\"dataframe\">\n  <thead>\n    <tr style=\"text-align: right;\">\n      <th></th>\n      <th>Name</th>\n      <th>Position</th>\n      <th>Leading Category</th>\n      <th>Points Per Game</th>\n    </tr>\n  </thead>\n  <tbody>\n    <tr>\n      <th>0</th>\n      <td>Enes Freedom</td>\n      <td>C</td>\n      <td>Points</td>\n      <td>14.1</td>\n    </tr>\n    <tr>\n      <th>1</th>\n      <td>Enes Freedom</td>\n      <td>C</td>\n      <td>Rebounds</td>\n      <td>11.0</td>\n    </tr>\n    <tr>\n      <th>2</th>\n      <td>Jarrett Jack</td>\n      <td>G</td>\n      <td>Assists</td>\n      <td>5.6</td>\n    </tr>\n    <tr>\n      <th>3</th>\n      <td>Courtney Lee</td>\n      <td>G</td>\n      <td>Steals</td>\n      <td>1.1</td>\n    </tr>\n    <tr>\n      <th>4</th>\n      <td>Kyle O'Quinn</td>\n      <td>C</td>\n      <td>Blocks</td>\n      <td>1.3</td>\n    </tr>\n  </tbody>\n</table>\n</div>"
     },
     "execution_count": 161,
     "metadata": {},
     "output_type": "execute_result"
    }
   ],
   "source": [
    "'''\n",
    "New York Knick Stats 2017-18 Regular Season\n",
    "'''\n",
    "\n",
    "url2017_18 = 'https://www.espn.com/nba/team/stats/_/name/ny/season/2018/seasontype/2'\n",
    "\n",
    "r5 = requests.get(url2017_18)\n",
    "\n",
    "soup5 = BeautifulSoup(r5.content, 'html.parser')\n",
    "\n",
    "results5 = soup5.find(id='fittPageContainer')\n",
    "\n",
    "team_leader_results5 = results5.find('section', class_ = 'StatLeaders flex')\n",
    "\n",
    "player_name5 = team_leader_results5.find_all('span', class_ = 'Athlete__PlayerName')\n",
    "\n",
    "role_lead5 = team_leader_results5.find_all('h2', class_ = 'h8 mb2 clr-gray-03')\n",
    "\n",
    "player_position5 = team_leader_results5.find_all('span', class_ = 'Athlete__NameDetails ml2 clr-gray-04 di ns9')\n",
    "\n",
    "points5 = team_leader_results5.find_all('div', class_=\"clr-gray-01 pr3 hs2\")\n",
    "\n",
    "\n",
    "points_list_rs5 = []\n",
    "\n",
    "for score in points5:\n",
    "    points_list_rs5.append(float(score.text))\n",
    "\n",
    "player_list_rs5 = []\n",
    "\n",
    "for name in player_name5:\n",
    "    player_list_rs5.append(name.text)\n",
    "\n",
    "role_lead_list_rs5 = []\n",
    "\n",
    "for role in role_lead5:\n",
    "    role_lead_list_rs5.append(role.text)\n",
    "\n",
    "player_position_list_rs5 = []\n",
    "\n",
    "for position in player_position5:\n",
    "    player_position_list_rs5.append(position.text)\n",
    "\n",
    "zip_prep5 = list(zip(player_list_rs5, player_position_list_rs5, role_lead_list_rs5, points_list_rs5))\n",
    "\n",
    "df_2017_18 = pd.DataFrame(zip_prep5, columns=['Name', 'Position', 'Leading Category', 'Points Per Game'])\n",
    "\n",
    "df_2017_18"
   ],
   "metadata": {
    "collapsed": false,
    "pycharm": {
     "name": "#%%\n"
    }
   }
  },
  {
   "cell_type": "code",
   "execution_count": 160,
   "outputs": [
    {
     "data": {
      "text/plain": "                 Name Position Leading Category  Points Per Game\n0     Carmelo Anthony       PF           Points             22.4\n1  Kristaps Porzingis        C         Rebounds              7.2\n2    Brandon Jennings        G          Assists              4.9\n3        Courtney Lee        G           Steals              1.1\n4  Kristaps Porzingis        C           Blocks              2.0",
      "text/html": "<div>\n<style scoped>\n    .dataframe tbody tr th:only-of-type {\n        vertical-align: middle;\n    }\n\n    .dataframe tbody tr th {\n        vertical-align: top;\n    }\n\n    .dataframe thead th {\n        text-align: right;\n    }\n</style>\n<table border=\"1\" class=\"dataframe\">\n  <thead>\n    <tr style=\"text-align: right;\">\n      <th></th>\n      <th>Name</th>\n      <th>Position</th>\n      <th>Leading Category</th>\n      <th>Points Per Game</th>\n    </tr>\n  </thead>\n  <tbody>\n    <tr>\n      <th>0</th>\n      <td>Carmelo Anthony</td>\n      <td>PF</td>\n      <td>Points</td>\n      <td>22.4</td>\n    </tr>\n    <tr>\n      <th>1</th>\n      <td>Kristaps Porzingis</td>\n      <td>C</td>\n      <td>Rebounds</td>\n      <td>7.2</td>\n    </tr>\n    <tr>\n      <th>2</th>\n      <td>Brandon Jennings</td>\n      <td>G</td>\n      <td>Assists</td>\n      <td>4.9</td>\n    </tr>\n    <tr>\n      <th>3</th>\n      <td>Courtney Lee</td>\n      <td>G</td>\n      <td>Steals</td>\n      <td>1.1</td>\n    </tr>\n    <tr>\n      <th>4</th>\n      <td>Kristaps Porzingis</td>\n      <td>C</td>\n      <td>Blocks</td>\n      <td>2.0</td>\n    </tr>\n  </tbody>\n</table>\n</div>"
     },
     "execution_count": 160,
     "metadata": {},
     "output_type": "execute_result"
    }
   ],
   "source": [
    "'''\n",
    "New York Knick Stats 2016-17 Regular Season\n",
    "'''\n",
    "\n",
    "url2016_17 = 'https://www.espn.com/nba/team/stats/_/name/ny/season/2017/seasontype/2'\n",
    "\n",
    "r6 = requests.get(url2016_17)\n",
    "\n",
    "soup6 = BeautifulSoup(r6.content, 'html.parser')\n",
    "\n",
    "results6 = soup6.find(id='fittPageContainer')\n",
    "\n",
    "team_leader_results6 = results6.find('section', class_ = 'StatLeaders flex')\n",
    "\n",
    "player_name6 = team_leader_results6.find_all('span', class_ = 'Athlete__PlayerName')\n",
    "\n",
    "role_lead6 = team_leader_results6.find_all('h2', class_ = 'h8 mb2 clr-gray-03')\n",
    "\n",
    "player_position6 = team_leader_results6.find_all('span', class_ = 'Athlete__NameDetails ml2 clr-gray-04 di ns9')\n",
    "\n",
    "points6 = team_leader_results6.find_all('div', class_=\"clr-gray-01 pr3 hs2\")\n",
    "\n",
    "\n",
    "points_list_rs6 = []\n",
    "\n",
    "for score in points6:\n",
    "    points_list_rs6.append(float(score.text))\n",
    "\n",
    "player_list_rs6 = []\n",
    "\n",
    "for name in player_name6:\n",
    "    player_list_rs6.append(name.text)\n",
    "\n",
    "role_lead_list_rs6 = []\n",
    "\n",
    "for role in role_lead6:\n",
    "    role_lead_list_rs6.append(role.text)\n",
    "\n",
    "player_position_list_rs6 = []\n",
    "\n",
    "for position in player_position6:\n",
    "    player_position_list_rs6.append(position.text)\n",
    "\n",
    "zip_prep6 = list(zip(player_list_rs6, player_position_list_rs6, role_lead_list_rs6, points_list_rs6))\n",
    "\n",
    "df_2016_17 = pd.DataFrame(zip_prep6, columns=['Name', 'Position', 'Leading Category', 'Points Per Game'])\n",
    "\n",
    "df_2016_17"
   ],
   "metadata": {
    "collapsed": false,
    "pycharm": {
     "name": "#%%\n"
    }
   }
  },
  {
   "cell_type": "code",
   "execution_count": 162,
   "outputs": [
    {
     "data": {
      "text/plain": "                 Name Position Leading Category  Points Per Game Season Year\n0     Carmelo Anthony       PF           Points             22.4   2016-2017\n1  Kristaps Porzingis        C         Rebounds              7.2   2016-2017\n2    Brandon Jennings        G          Assists              4.9   2016-2017\n3        Courtney Lee        G           Steals              1.1   2016-2017\n4  Kristaps Porzingis        C           Blocks              2.0   2016-2017",
      "text/html": "<div>\n<style scoped>\n    .dataframe tbody tr th:only-of-type {\n        vertical-align: middle;\n    }\n\n    .dataframe tbody tr th {\n        vertical-align: top;\n    }\n\n    .dataframe thead th {\n        text-align: right;\n    }\n</style>\n<table border=\"1\" class=\"dataframe\">\n  <thead>\n    <tr style=\"text-align: right;\">\n      <th></th>\n      <th>Name</th>\n      <th>Position</th>\n      <th>Leading Category</th>\n      <th>Points Per Game</th>\n      <th>Season Year</th>\n    </tr>\n  </thead>\n  <tbody>\n    <tr>\n      <th>0</th>\n      <td>Carmelo Anthony</td>\n      <td>PF</td>\n      <td>Points</td>\n      <td>22.4</td>\n      <td>2016-2017</td>\n    </tr>\n    <tr>\n      <th>1</th>\n      <td>Kristaps Porzingis</td>\n      <td>C</td>\n      <td>Rebounds</td>\n      <td>7.2</td>\n      <td>2016-2017</td>\n    </tr>\n    <tr>\n      <th>2</th>\n      <td>Brandon Jennings</td>\n      <td>G</td>\n      <td>Assists</td>\n      <td>4.9</td>\n      <td>2016-2017</td>\n    </tr>\n    <tr>\n      <th>3</th>\n      <td>Courtney Lee</td>\n      <td>G</td>\n      <td>Steals</td>\n      <td>1.1</td>\n      <td>2016-2017</td>\n    </tr>\n    <tr>\n      <th>4</th>\n      <td>Kristaps Porzingis</td>\n      <td>C</td>\n      <td>Blocks</td>\n      <td>2.0</td>\n      <td>2016-2017</td>\n    </tr>\n  </tbody>\n</table>\n</div>"
     },
     "execution_count": 162,
     "metadata": {},
     "output_type": "execute_result"
    }
   ],
   "source": [
    "df_2016_17.insert(4, \"Season Year\", \"2016-2017\")\n",
    "df_2016_17"
   ],
   "metadata": {
    "collapsed": false,
    "pycharm": {
     "name": "#%%\n"
    }
   }
  },
  {
   "cell_type": "code",
   "execution_count": 164,
   "outputs": [
    {
     "data": {
      "text/plain": "           Name Position Leading Category  Points Per Game Season Year\n0  Enes Freedom        C           Points             14.1   2017-2018\n1  Enes Freedom        C         Rebounds             11.0   2017-2018\n2  Jarrett Jack        G          Assists              5.6   2017-2018\n3  Courtney Lee        G           Steals              1.1   2017-2018\n4  Kyle O'Quinn        C           Blocks              1.3   2017-2018",
      "text/html": "<div>\n<style scoped>\n    .dataframe tbody tr th:only-of-type {\n        vertical-align: middle;\n    }\n\n    .dataframe tbody tr th {\n        vertical-align: top;\n    }\n\n    .dataframe thead th {\n        text-align: right;\n    }\n</style>\n<table border=\"1\" class=\"dataframe\">\n  <thead>\n    <tr style=\"text-align: right;\">\n      <th></th>\n      <th>Name</th>\n      <th>Position</th>\n      <th>Leading Category</th>\n      <th>Points Per Game</th>\n      <th>Season Year</th>\n    </tr>\n  </thead>\n  <tbody>\n    <tr>\n      <th>0</th>\n      <td>Enes Freedom</td>\n      <td>C</td>\n      <td>Points</td>\n      <td>14.1</td>\n      <td>2017-2018</td>\n    </tr>\n    <tr>\n      <th>1</th>\n      <td>Enes Freedom</td>\n      <td>C</td>\n      <td>Rebounds</td>\n      <td>11.0</td>\n      <td>2017-2018</td>\n    </tr>\n    <tr>\n      <th>2</th>\n      <td>Jarrett Jack</td>\n      <td>G</td>\n      <td>Assists</td>\n      <td>5.6</td>\n      <td>2017-2018</td>\n    </tr>\n    <tr>\n      <th>3</th>\n      <td>Courtney Lee</td>\n      <td>G</td>\n      <td>Steals</td>\n      <td>1.1</td>\n      <td>2017-2018</td>\n    </tr>\n    <tr>\n      <th>4</th>\n      <td>Kyle O'Quinn</td>\n      <td>C</td>\n      <td>Blocks</td>\n      <td>1.3</td>\n      <td>2017-2018</td>\n    </tr>\n  </tbody>\n</table>\n</div>"
     },
     "execution_count": 164,
     "metadata": {},
     "output_type": "execute_result"
    }
   ],
   "source": [
    "df_2017_18.insert(4, \"Season Year\", \"2017-2018\")\n",
    "df_2017_18"
   ],
   "metadata": {
    "collapsed": false,
    "pycharm": {
     "name": "#%%\n"
    }
   }
  },
  {
   "cell_type": "code",
   "execution_count": 148,
   "outputs": [
    {
     "data": {
      "text/plain": "                Name Position Leading Category  Points Per Game Season Year\n0    Emmanuel Mudiay        G           Points             14.8   2018-2019\n1        Noah Vonleh        F         Rebounds              7.8   2018-2019\n2    Emmanuel Mudiay        G          Assists              3.9   2018-2019\n3      Mario Hezonja        F           Steals              1.0   2018-2019\n4  Mitchell Robinson        C           Blocks              2.4   2018-2019",
      "text/html": "<div>\n<style scoped>\n    .dataframe tbody tr th:only-of-type {\n        vertical-align: middle;\n    }\n\n    .dataframe tbody tr th {\n        vertical-align: top;\n    }\n\n    .dataframe thead th {\n        text-align: right;\n    }\n</style>\n<table border=\"1\" class=\"dataframe\">\n  <thead>\n    <tr style=\"text-align: right;\">\n      <th></th>\n      <th>Name</th>\n      <th>Position</th>\n      <th>Leading Category</th>\n      <th>Points Per Game</th>\n      <th>Season Year</th>\n    </tr>\n  </thead>\n  <tbody>\n    <tr>\n      <th>0</th>\n      <td>Emmanuel Mudiay</td>\n      <td>G</td>\n      <td>Points</td>\n      <td>14.8</td>\n      <td>2018-2019</td>\n    </tr>\n    <tr>\n      <th>1</th>\n      <td>Noah Vonleh</td>\n      <td>F</td>\n      <td>Rebounds</td>\n      <td>7.8</td>\n      <td>2018-2019</td>\n    </tr>\n    <tr>\n      <th>2</th>\n      <td>Emmanuel Mudiay</td>\n      <td>G</td>\n      <td>Assists</td>\n      <td>3.9</td>\n      <td>2018-2019</td>\n    </tr>\n    <tr>\n      <th>3</th>\n      <td>Mario Hezonja</td>\n      <td>F</td>\n      <td>Steals</td>\n      <td>1.0</td>\n      <td>2018-2019</td>\n    </tr>\n    <tr>\n      <th>4</th>\n      <td>Mitchell Robinson</td>\n      <td>C</td>\n      <td>Blocks</td>\n      <td>2.4</td>\n      <td>2018-2019</td>\n    </tr>\n  </tbody>\n</table>\n</div>"
     },
     "execution_count": 148,
     "metadata": {},
     "output_type": "execute_result"
    }
   ],
   "source": [
    "df_2018_19.insert(4, \"Season Year\", \"2018-2019\")\n",
    "df_2018_19"
   ],
   "metadata": {
    "collapsed": false,
    "pycharm": {
     "name": "#%%\n"
    }
   }
  },
  {
   "cell_type": "code",
   "execution_count": 150,
   "outputs": [
    {
     "data": {
      "text/plain": "                Name Position Leading Category  Points Per Game Season Year\n0      Julius Randle       PF           Points             19.5   2019-2020\n1      Julius Randle       PF         Rebounds              9.7   2019-2020\n2      Julius Randle       PF          Assists              3.1   2019-2020\n3         RJ Barrett       SG           Steals              1.0   2019-2020\n4  Mitchell Robinson        C           Blocks              2.0   2019-2020",
      "text/html": "<div>\n<style scoped>\n    .dataframe tbody tr th:only-of-type {\n        vertical-align: middle;\n    }\n\n    .dataframe tbody tr th {\n        vertical-align: top;\n    }\n\n    .dataframe thead th {\n        text-align: right;\n    }\n</style>\n<table border=\"1\" class=\"dataframe\">\n  <thead>\n    <tr style=\"text-align: right;\">\n      <th></th>\n      <th>Name</th>\n      <th>Position</th>\n      <th>Leading Category</th>\n      <th>Points Per Game</th>\n      <th>Season Year</th>\n    </tr>\n  </thead>\n  <tbody>\n    <tr>\n      <th>0</th>\n      <td>Julius Randle</td>\n      <td>PF</td>\n      <td>Points</td>\n      <td>19.5</td>\n      <td>2019-2020</td>\n    </tr>\n    <tr>\n      <th>1</th>\n      <td>Julius Randle</td>\n      <td>PF</td>\n      <td>Rebounds</td>\n      <td>9.7</td>\n      <td>2019-2020</td>\n    </tr>\n    <tr>\n      <th>2</th>\n      <td>Julius Randle</td>\n      <td>PF</td>\n      <td>Assists</td>\n      <td>3.1</td>\n      <td>2019-2020</td>\n    </tr>\n    <tr>\n      <th>3</th>\n      <td>RJ Barrett</td>\n      <td>SG</td>\n      <td>Steals</td>\n      <td>1.0</td>\n      <td>2019-2020</td>\n    </tr>\n    <tr>\n      <th>4</th>\n      <td>Mitchell Robinson</td>\n      <td>C</td>\n      <td>Blocks</td>\n      <td>2.0</td>\n      <td>2019-2020</td>\n    </tr>\n  </tbody>\n</table>\n</div>"
     },
     "execution_count": 150,
     "metadata": {},
     "output_type": "execute_result"
    }
   ],
   "source": [
    "df_2019_20.insert(4, \"Season Year\", \"2019-2020\")\n",
    "df_2019_20"
   ],
   "metadata": {
    "collapsed": false,
    "pycharm": {
     "name": "#%%\n"
    }
   }
  },
  {
   "cell_type": "code",
   "execution_count": 151,
   "outputs": [
    {
     "data": {
      "text/plain": "            Name Position Leading Category  Points Per Game Season Year\n0  Julius Randle       PF           Points             24.1   2020-2021\n1  Julius Randle       PF         Rebounds             10.2   2020-2021\n2  Julius Randle       PF          Assists              6.0   2020-2021\n3   Nerlens Noel        C           Steals              1.1   2020-2021\n4   Nerlens Noel        C           Blocks              2.2   2020-2021",
      "text/html": "<div>\n<style scoped>\n    .dataframe tbody tr th:only-of-type {\n        vertical-align: middle;\n    }\n\n    .dataframe tbody tr th {\n        vertical-align: top;\n    }\n\n    .dataframe thead th {\n        text-align: right;\n    }\n</style>\n<table border=\"1\" class=\"dataframe\">\n  <thead>\n    <tr style=\"text-align: right;\">\n      <th></th>\n      <th>Name</th>\n      <th>Position</th>\n      <th>Leading Category</th>\n      <th>Points Per Game</th>\n      <th>Season Year</th>\n    </tr>\n  </thead>\n  <tbody>\n    <tr>\n      <th>0</th>\n      <td>Julius Randle</td>\n      <td>PF</td>\n      <td>Points</td>\n      <td>24.1</td>\n      <td>2020-2021</td>\n    </tr>\n    <tr>\n      <th>1</th>\n      <td>Julius Randle</td>\n      <td>PF</td>\n      <td>Rebounds</td>\n      <td>10.2</td>\n      <td>2020-2021</td>\n    </tr>\n    <tr>\n      <th>2</th>\n      <td>Julius Randle</td>\n      <td>PF</td>\n      <td>Assists</td>\n      <td>6.0</td>\n      <td>2020-2021</td>\n    </tr>\n    <tr>\n      <th>3</th>\n      <td>Nerlens Noel</td>\n      <td>C</td>\n      <td>Steals</td>\n      <td>1.1</td>\n      <td>2020-2021</td>\n    </tr>\n    <tr>\n      <th>4</th>\n      <td>Nerlens Noel</td>\n      <td>C</td>\n      <td>Blocks</td>\n      <td>2.2</td>\n      <td>2020-2021</td>\n    </tr>\n  </tbody>\n</table>\n</div>"
     },
     "execution_count": 151,
     "metadata": {},
     "output_type": "execute_result"
    }
   ],
   "source": [
    "df_2020_21.insert(4, \"Season Year\", \"2020-2021\")\n",
    "df_2020_21\n"
   ],
   "metadata": {
    "collapsed": false,
    "pycharm": {
     "name": "#%%\n"
    }
   }
  },
  {
   "cell_type": "code",
   "execution_count": null,
   "outputs": [],
   "source": [
    "df_2021_22.insert(4, \"Season Year\", \"2021-2022\")"
   ],
   "metadata": {
    "collapsed": false,
    "pycharm": {
     "name": "#%%\n",
     "is_executing": true
    }
   }
  },
  {
   "cell_type": "code",
   "execution_count": 154,
   "outputs": [
    {
     "data": {
      "text/plain": "                Name Position Leading Category  Points Per Game Season Year\n0      Julius Randle       PF           Points             20.1   2021-2022\n1      Julius Randle       PF         Rebounds              9.9   2021-2022\n2      Julius Randle       PF          Assists              5.1   2021-2022\n3         Alec Burks       SG           Steals              1.0   2021-2022\n4  Mitchell Robinson        C           Blocks              1.8   2021-2022",
      "text/html": "<div>\n<style scoped>\n    .dataframe tbody tr th:only-of-type {\n        vertical-align: middle;\n    }\n\n    .dataframe tbody tr th {\n        vertical-align: top;\n    }\n\n    .dataframe thead th {\n        text-align: right;\n    }\n</style>\n<table border=\"1\" class=\"dataframe\">\n  <thead>\n    <tr style=\"text-align: right;\">\n      <th></th>\n      <th>Name</th>\n      <th>Position</th>\n      <th>Leading Category</th>\n      <th>Points Per Game</th>\n      <th>Season Year</th>\n    </tr>\n  </thead>\n  <tbody>\n    <tr>\n      <th>0</th>\n      <td>Julius Randle</td>\n      <td>PF</td>\n      <td>Points</td>\n      <td>20.1</td>\n      <td>2021-2022</td>\n    </tr>\n    <tr>\n      <th>1</th>\n      <td>Julius Randle</td>\n      <td>PF</td>\n      <td>Rebounds</td>\n      <td>9.9</td>\n      <td>2021-2022</td>\n    </tr>\n    <tr>\n      <th>2</th>\n      <td>Julius Randle</td>\n      <td>PF</td>\n      <td>Assists</td>\n      <td>5.1</td>\n      <td>2021-2022</td>\n    </tr>\n    <tr>\n      <th>3</th>\n      <td>Alec Burks</td>\n      <td>SG</td>\n      <td>Steals</td>\n      <td>1.0</td>\n      <td>2021-2022</td>\n    </tr>\n    <tr>\n      <th>4</th>\n      <td>Mitchell Robinson</td>\n      <td>C</td>\n      <td>Blocks</td>\n      <td>1.8</td>\n      <td>2021-2022</td>\n    </tr>\n  </tbody>\n</table>\n</div>"
     },
     "execution_count": 154,
     "metadata": {},
     "output_type": "execute_result"
    }
   ],
   "source": [
    "df_2021_22"
   ],
   "metadata": {
    "collapsed": false,
    "pycharm": {
     "name": "#%%\n"
    }
   }
  },
  {
   "cell_type": "code",
   "execution_count": 165,
   "outputs": [
    {
     "data": {
      "text/plain": "                 Name Position Leading Category  Points Per Game Season Year\n0     Carmelo Anthony       PF           Points             22.4   2016-2017\n1  Kristaps Porzingis        C         Rebounds              7.2   2016-2017\n2    Brandon Jennings        G          Assists              4.9   2016-2017\n3        Courtney Lee        G           Steals              1.1   2016-2017\n4  Kristaps Porzingis        C           Blocks              2.0   2016-2017\n0        Enes Freedom        C           Points             14.1   2017-2018\n1        Enes Freedom        C         Rebounds             11.0   2017-2018\n2        Jarrett Jack        G          Assists              5.6   2017-2018\n3        Courtney Lee        G           Steals              1.1   2017-2018\n4        Kyle O'Quinn        C           Blocks              1.3   2017-2018\n0     Emmanuel Mudiay        G           Points             14.8   2018-2019\n1         Noah Vonleh        F         Rebounds              7.8   2018-2019\n2     Emmanuel Mudiay        G          Assists              3.9   2018-2019\n3       Mario Hezonja        F           Steals              1.0   2018-2019\n4   Mitchell Robinson        C           Blocks              2.4   2018-2019\n0       Julius Randle       PF           Points             19.5   2019-2020\n1       Julius Randle       PF         Rebounds              9.7   2019-2020\n2       Julius Randle       PF          Assists              3.1   2019-2020\n3          RJ Barrett       SG           Steals              1.0   2019-2020\n4   Mitchell Robinson        C           Blocks              2.0   2019-2020\n0       Julius Randle       PF           Points             24.1   2020-2021\n1       Julius Randle       PF         Rebounds             10.2   2020-2021\n2       Julius Randle       PF          Assists              6.0   2020-2021\n3        Nerlens Noel        C           Steals              1.1   2020-2021\n4        Nerlens Noel        C           Blocks              2.2   2020-2021\n0       Julius Randle       PF           Points             20.1   2021-2022\n1       Julius Randle       PF         Rebounds              9.9   2021-2022\n2       Julius Randle       PF          Assists              5.1   2021-2022\n3          Alec Burks       SG           Steals              1.0   2021-2022\n4   Mitchell Robinson        C           Blocks              1.8   2021-2022",
      "text/html": "<div>\n<style scoped>\n    .dataframe tbody tr th:only-of-type {\n        vertical-align: middle;\n    }\n\n    .dataframe tbody tr th {\n        vertical-align: top;\n    }\n\n    .dataframe thead th {\n        text-align: right;\n    }\n</style>\n<table border=\"1\" class=\"dataframe\">\n  <thead>\n    <tr style=\"text-align: right;\">\n      <th></th>\n      <th>Name</th>\n      <th>Position</th>\n      <th>Leading Category</th>\n      <th>Points Per Game</th>\n      <th>Season Year</th>\n    </tr>\n  </thead>\n  <tbody>\n    <tr>\n      <th>0</th>\n      <td>Carmelo Anthony</td>\n      <td>PF</td>\n      <td>Points</td>\n      <td>22.4</td>\n      <td>2016-2017</td>\n    </tr>\n    <tr>\n      <th>1</th>\n      <td>Kristaps Porzingis</td>\n      <td>C</td>\n      <td>Rebounds</td>\n      <td>7.2</td>\n      <td>2016-2017</td>\n    </tr>\n    <tr>\n      <th>2</th>\n      <td>Brandon Jennings</td>\n      <td>G</td>\n      <td>Assists</td>\n      <td>4.9</td>\n      <td>2016-2017</td>\n    </tr>\n    <tr>\n      <th>3</th>\n      <td>Courtney Lee</td>\n      <td>G</td>\n      <td>Steals</td>\n      <td>1.1</td>\n      <td>2016-2017</td>\n    </tr>\n    <tr>\n      <th>4</th>\n      <td>Kristaps Porzingis</td>\n      <td>C</td>\n      <td>Blocks</td>\n      <td>2.0</td>\n      <td>2016-2017</td>\n    </tr>\n    <tr>\n      <th>0</th>\n      <td>Enes Freedom</td>\n      <td>C</td>\n      <td>Points</td>\n      <td>14.1</td>\n      <td>2017-2018</td>\n    </tr>\n    <tr>\n      <th>1</th>\n      <td>Enes Freedom</td>\n      <td>C</td>\n      <td>Rebounds</td>\n      <td>11.0</td>\n      <td>2017-2018</td>\n    </tr>\n    <tr>\n      <th>2</th>\n      <td>Jarrett Jack</td>\n      <td>G</td>\n      <td>Assists</td>\n      <td>5.6</td>\n      <td>2017-2018</td>\n    </tr>\n    <tr>\n      <th>3</th>\n      <td>Courtney Lee</td>\n      <td>G</td>\n      <td>Steals</td>\n      <td>1.1</td>\n      <td>2017-2018</td>\n    </tr>\n    <tr>\n      <th>4</th>\n      <td>Kyle O'Quinn</td>\n      <td>C</td>\n      <td>Blocks</td>\n      <td>1.3</td>\n      <td>2017-2018</td>\n    </tr>\n    <tr>\n      <th>0</th>\n      <td>Emmanuel Mudiay</td>\n      <td>G</td>\n      <td>Points</td>\n      <td>14.8</td>\n      <td>2018-2019</td>\n    </tr>\n    <tr>\n      <th>1</th>\n      <td>Noah Vonleh</td>\n      <td>F</td>\n      <td>Rebounds</td>\n      <td>7.8</td>\n      <td>2018-2019</td>\n    </tr>\n    <tr>\n      <th>2</th>\n      <td>Emmanuel Mudiay</td>\n      <td>G</td>\n      <td>Assists</td>\n      <td>3.9</td>\n      <td>2018-2019</td>\n    </tr>\n    <tr>\n      <th>3</th>\n      <td>Mario Hezonja</td>\n      <td>F</td>\n      <td>Steals</td>\n      <td>1.0</td>\n      <td>2018-2019</td>\n    </tr>\n    <tr>\n      <th>4</th>\n      <td>Mitchell Robinson</td>\n      <td>C</td>\n      <td>Blocks</td>\n      <td>2.4</td>\n      <td>2018-2019</td>\n    </tr>\n    <tr>\n      <th>0</th>\n      <td>Julius Randle</td>\n      <td>PF</td>\n      <td>Points</td>\n      <td>19.5</td>\n      <td>2019-2020</td>\n    </tr>\n    <tr>\n      <th>1</th>\n      <td>Julius Randle</td>\n      <td>PF</td>\n      <td>Rebounds</td>\n      <td>9.7</td>\n      <td>2019-2020</td>\n    </tr>\n    <tr>\n      <th>2</th>\n      <td>Julius Randle</td>\n      <td>PF</td>\n      <td>Assists</td>\n      <td>3.1</td>\n      <td>2019-2020</td>\n    </tr>\n    <tr>\n      <th>3</th>\n      <td>RJ Barrett</td>\n      <td>SG</td>\n      <td>Steals</td>\n      <td>1.0</td>\n      <td>2019-2020</td>\n    </tr>\n    <tr>\n      <th>4</th>\n      <td>Mitchell Robinson</td>\n      <td>C</td>\n      <td>Blocks</td>\n      <td>2.0</td>\n      <td>2019-2020</td>\n    </tr>\n    <tr>\n      <th>0</th>\n      <td>Julius Randle</td>\n      <td>PF</td>\n      <td>Points</td>\n      <td>24.1</td>\n      <td>2020-2021</td>\n    </tr>\n    <tr>\n      <th>1</th>\n      <td>Julius Randle</td>\n      <td>PF</td>\n      <td>Rebounds</td>\n      <td>10.2</td>\n      <td>2020-2021</td>\n    </tr>\n    <tr>\n      <th>2</th>\n      <td>Julius Randle</td>\n      <td>PF</td>\n      <td>Assists</td>\n      <td>6.0</td>\n      <td>2020-2021</td>\n    </tr>\n    <tr>\n      <th>3</th>\n      <td>Nerlens Noel</td>\n      <td>C</td>\n      <td>Steals</td>\n      <td>1.1</td>\n      <td>2020-2021</td>\n    </tr>\n    <tr>\n      <th>4</th>\n      <td>Nerlens Noel</td>\n      <td>C</td>\n      <td>Blocks</td>\n      <td>2.2</td>\n      <td>2020-2021</td>\n    </tr>\n    <tr>\n      <th>0</th>\n      <td>Julius Randle</td>\n      <td>PF</td>\n      <td>Points</td>\n      <td>20.1</td>\n      <td>2021-2022</td>\n    </tr>\n    <tr>\n      <th>1</th>\n      <td>Julius Randle</td>\n      <td>PF</td>\n      <td>Rebounds</td>\n      <td>9.9</td>\n      <td>2021-2022</td>\n    </tr>\n    <tr>\n      <th>2</th>\n      <td>Julius Randle</td>\n      <td>PF</td>\n      <td>Assists</td>\n      <td>5.1</td>\n      <td>2021-2022</td>\n    </tr>\n    <tr>\n      <th>3</th>\n      <td>Alec Burks</td>\n      <td>SG</td>\n      <td>Steals</td>\n      <td>1.0</td>\n      <td>2021-2022</td>\n    </tr>\n    <tr>\n      <th>4</th>\n      <td>Mitchell Robinson</td>\n      <td>C</td>\n      <td>Blocks</td>\n      <td>1.8</td>\n      <td>2021-2022</td>\n    </tr>\n  </tbody>\n</table>\n</div>"
     },
     "execution_count": 165,
     "metadata": {},
     "output_type": "execute_result"
    }
   ],
   "source": [
    "# final data frame with all scaped information starting from 2016-17 season to 2021-22 season\n",
    "\n",
    "final_df = pd.concat([df_2016_17,df_2017_18,df_2018_19,df_2019_20,df_2020_21,df_2021_22])\n",
    "final_df"
   ],
   "metadata": {
    "collapsed": false,
    "pycharm": {
     "name": "#%%\n"
    }
   }
  },
  {
   "cell_type": "code",
   "execution_count": null,
   "outputs": [],
   "source": [],
   "metadata": {
    "collapsed": false,
    "pycharm": {
     "name": "#%%\n"
    }
   }
  }
 ],
 "metadata": {
  "kernelspec": {
   "display_name": "Python 3",
   "language": "python",
   "name": "python3"
  },
  "language_info": {
   "codemirror_mode": {
    "name": "ipython",
    "version": 2
   },
   "file_extension": ".py",
   "mimetype": "text/x-python",
   "name": "python",
   "nbconvert_exporter": "python",
   "pygments_lexer": "ipython2",
   "version": "2.7.6"
  }
 },
 "nbformat": 4,
 "nbformat_minor": 0
}