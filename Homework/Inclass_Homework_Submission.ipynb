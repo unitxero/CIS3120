{
 "cells": [
  {
   "cell_type": "code",
   "execution_count": 1,
   "metadata": {
    "collapsed": true
   },
   "outputs": [
    {
     "name": "stdout",
     "output_type": "stream",
     "text": [
      "  state/region     ages  year  population\n",
      "0           AL  under18  2012   1117489.0\n",
      "1           AL    total  2012   4817528.0\n",
      "2           AL  under18  2010   1130966.0\n",
      "3           AL    total  2010   4785570.0\n",
      "4           AL  under18  2011   1125763.0\n",
      "        state  area (sq. mi)\n",
      "0     Alabama          52423\n",
      "1      Alaska         656425\n",
      "2     Arizona         114006\n",
      "3    Arkansas          53182\n",
      "4  California         163707\n",
      "        state abbreviation\n",
      "0     Alabama           AL\n",
      "1      Alaska           AK\n",
      "2     Arizona           AZ\n",
      "3    Arkansas           AR\n",
      "4  California           CA\n",
      "(2544, 4) (52, 2) (51, 2)\n"
     ]
    }
   ],
   "source": [
    "#Data cleaning example: US states and population\n",
    "import pandas as pd\n",
    "import numpy as np\n",
    "\n",
    "url1 = 'https://raw.githubusercontent.com/jakevdp/data-USstates/master/state-population.csv'\n",
    "url2 = 'https://raw.githubusercontent.com/jakevdp/data-USstates/master/state-areas.csv'\n",
    "url3 = 'https://raw.githubusercontent.com/jakevdp/data-USstates/master/state-abbrevs.csv'\n",
    "\n",
    "pop = pd.read_csv(url1)\n",
    "areas = pd.read_csv(url2)\n",
    "abbrevs = pd.read_csv(url3)\n",
    "\n",
    "print(pop.head()); print(areas.head());print(abbrevs.head())\n",
    "\n",
    "print(pop.shape, areas.shape, abbrevs.shape)"
   ]
  },
  {
   "cell_type": "code",
   "execution_count": 2,
   "outputs": [
    {
     "data": {
      "text/plain": "state/region     0\nages             0\nyear             0\npopulation      20\nstate           96\ndtype: int64"
     },
     "execution_count": 2,
     "metadata": {},
     "output_type": "execute_result"
    }
   ],
   "source": [
    "#Merge three datasets\n",
    "merged = pd.merge(pop, abbrevs, left_on = 'state/region', right_on = 'abbreviation', how = 'outer')\n",
    "merged = merged.drop('abbreviation', axis =1)\n",
    "merged\n",
    "\n",
    "#check null values\n",
    "merged.isnull().any()\n",
    "np.sum(merged.isnull())\n"
   ],
   "metadata": {
    "collapsed": false,
    "pycharm": {
     "name": "#%%\n"
    }
   }
  },
  {
   "cell_type": "code",
   "execution_count": 3,
   "outputs": [
    {
     "data": {
      "text/plain": "     state/region     ages  year  population        state  area (sq. mi)\n0              AL  under18  2012   1117489.0      Alabama        52423.0\n1              AL    total  2012   4817528.0      Alabama        52423.0\n2              AL  under18  2010   1130966.0      Alabama        52423.0\n3              AL    total  2010   4785570.0      Alabama        52423.0\n4              AL  under18  2011   1125763.0      Alabama        52423.0\n...           ...      ...   ...         ...          ...            ...\n2471           PR  under18  2010    896945.0  Puerto Rico         3515.0\n2472           PR  under18  2011    869327.0  Puerto Rico         3515.0\n2473           PR    total  2011   3686580.0  Puerto Rico         3515.0\n2474           PR  under18  2012    841740.0  Puerto Rico         3515.0\n2475           PR    total  2012   3651545.0  Puerto Rico         3515.0\n\n[2476 rows x 6 columns]",
      "text/html": "<div>\n<style scoped>\n    .dataframe tbody tr th:only-of-type {\n        vertical-align: middle;\n    }\n\n    .dataframe tbody tr th {\n        vertical-align: top;\n    }\n\n    .dataframe thead th {\n        text-align: right;\n    }\n</style>\n<table border=\"1\" class=\"dataframe\">\n  <thead>\n    <tr style=\"text-align: right;\">\n      <th></th>\n      <th>state/region</th>\n      <th>ages</th>\n      <th>year</th>\n      <th>population</th>\n      <th>state</th>\n      <th>area (sq. mi)</th>\n    </tr>\n  </thead>\n  <tbody>\n    <tr>\n      <th>0</th>\n      <td>AL</td>\n      <td>under18</td>\n      <td>2012</td>\n      <td>1117489.0</td>\n      <td>Alabama</td>\n      <td>52423.0</td>\n    </tr>\n    <tr>\n      <th>1</th>\n      <td>AL</td>\n      <td>total</td>\n      <td>2012</td>\n      <td>4817528.0</td>\n      <td>Alabama</td>\n      <td>52423.0</td>\n    </tr>\n    <tr>\n      <th>2</th>\n      <td>AL</td>\n      <td>under18</td>\n      <td>2010</td>\n      <td>1130966.0</td>\n      <td>Alabama</td>\n      <td>52423.0</td>\n    </tr>\n    <tr>\n      <th>3</th>\n      <td>AL</td>\n      <td>total</td>\n      <td>2010</td>\n      <td>4785570.0</td>\n      <td>Alabama</td>\n      <td>52423.0</td>\n    </tr>\n    <tr>\n      <th>4</th>\n      <td>AL</td>\n      <td>under18</td>\n      <td>2011</td>\n      <td>1125763.0</td>\n      <td>Alabama</td>\n      <td>52423.0</td>\n    </tr>\n    <tr>\n      <th>...</th>\n      <td>...</td>\n      <td>...</td>\n      <td>...</td>\n      <td>...</td>\n      <td>...</td>\n      <td>...</td>\n    </tr>\n    <tr>\n      <th>2471</th>\n      <td>PR</td>\n      <td>under18</td>\n      <td>2010</td>\n      <td>896945.0</td>\n      <td>Puerto Rico</td>\n      <td>3515.0</td>\n    </tr>\n    <tr>\n      <th>2472</th>\n      <td>PR</td>\n      <td>under18</td>\n      <td>2011</td>\n      <td>869327.0</td>\n      <td>Puerto Rico</td>\n      <td>3515.0</td>\n    </tr>\n    <tr>\n      <th>2473</th>\n      <td>PR</td>\n      <td>total</td>\n      <td>2011</td>\n      <td>3686580.0</td>\n      <td>Puerto Rico</td>\n      <td>3515.0</td>\n    </tr>\n    <tr>\n      <th>2474</th>\n      <td>PR</td>\n      <td>under18</td>\n      <td>2012</td>\n      <td>841740.0</td>\n      <td>Puerto Rico</td>\n      <td>3515.0</td>\n    </tr>\n    <tr>\n      <th>2475</th>\n      <td>PR</td>\n      <td>total</td>\n      <td>2012</td>\n      <td>3651545.0</td>\n      <td>Puerto Rico</td>\n      <td>3515.0</td>\n    </tr>\n  </tbody>\n</table>\n<p>2476 rows × 6 columns</p>\n</div>"
     },
     "execution_count": 3,
     "metadata": {},
     "output_type": "execute_result"
    }
   ],
   "source": [
    "merged.loc[merged['population'].isnull()]\n",
    "merged.loc[merged['state'].isnull()]['state/region'].unique()\n",
    "\n",
    "len(merged.loc[merged['state/region']== 'PR']['state'])\n",
    "\n",
    "merged.loc[merged['state/region']== 'PR','state'] = 'Puerto Rico'\n",
    "merged.loc[merged['state/region']== 'USA','state'] = 'United States'\n",
    "merged.isnull().any()\n",
    "\n",
    "#merged = merged.dropna()\n",
    "merged.dropna(inplace = True)\n",
    "merged.isnull().any()\n",
    "merged.shape\n",
    "\n",
    "final = pd.merge(merged, areas, on = 'state', how = 'left' )\n",
    "final.loc[final['area (sq. mi)'].isnull()]\n",
    "\n",
    "final.dropna(inplace = True)\n",
    "final"
   ],
   "metadata": {
    "collapsed": false,
    "pycharm": {
     "name": "#%%\n"
    }
   }
  },
  {
   "cell_type": "code",
   "execution_count": 6,
   "outputs": [
    {
     "name": "stderr",
     "output_type": "stream",
     "text": [
      "/var/folders/jr/5dfwzgfn22n3n418d00h4dhc0000gn/T/ipykernel_10778/40183281.py:3: SettingWithCopyWarning: \n",
      "A value is trying to be set on a copy of a slice from a DataFrame.\n",
      "Try using .loc[row_indexer,col_indexer] = value instead\n",
      "\n",
      "See the caveats in the documentation: https://pandas.pydata.org/pandas-docs/stable/user_guide/indexing.html#returning-a-view-versus-a-copy\n",
      "  data2010['density'] = data2010['population']/data2010['area (sq. mi)']\n"
     ]
    },
    {
     "data": {
      "text/plain": "     state/region   ages  year  population                 state  \\\n3              AL  total  2010   4785570.0               Alabama   \n91             AK  total  2010    713868.0                Alaska   \n101            AZ  total  2010   6408790.0               Arizona   \n189            AR  total  2010   2922280.0              Arkansas   \n197            CA  total  2010  37333601.0            California   \n283            CO  total  2010   5048196.0              Colorado   \n293            CT  total  2010   3579210.0           Connecticut   \n379            DE  total  2010    899711.0              Delaware   \n389            DC  total  2010    605125.0  District of Columbia   \n475            FL  total  2010  18846054.0               Florida   \n485            GA  total  2010   9713248.0               Georgia   \n570            HI  total  2010   1363731.0                Hawaii   \n581            ID  total  2010   1570718.0                 Idaho   \n666            IL  total  2010  12839695.0              Illinois   \n677            IN  total  2010   6489965.0               Indiana   \n762            IA  total  2010   3050314.0                  Iowa   \n773            KS  total  2010   2858910.0                Kansas   \n858            KY  total  2010   4347698.0              Kentucky   \n869            LA  total  2010   4545392.0             Louisiana   \n954            ME  total  2010   1327366.0                 Maine   \n965            MD  total  2010   5787193.0              Maryland   \n1050           MA  total  2010   6563263.0         Massachusetts   \n1061           MI  total  2010   9876149.0              Michigan   \n1146           MN  total  2010   5310337.0             Minnesota   \n1157           MS  total  2010   2970047.0           Mississippi   \n1242           MO  total  2010   5996063.0              Missouri   \n1253           MT  total  2010    990527.0               Montana   \n1338           NE  total  2010   1829838.0              Nebraska   \n1349           NV  total  2010   2703230.0                Nevada   \n1434           NH  total  2010   1316614.0         New Hampshire   \n1445           NJ  total  2010   8802707.0            New Jersey   \n1530           NM  total  2010   2064982.0            New Mexico   \n1541           NY  total  2010  19398228.0              New York   \n1626           NC  total  2010   9559533.0        North Carolina   \n1637           ND  total  2010    674344.0          North Dakota   \n1722           OH  total  2010  11545435.0                  Ohio   \n1733           OK  total  2010   3759263.0              Oklahoma   \n1818           OR  total  2010   3837208.0                Oregon   \n1829           PA  total  2010  12710472.0          Pennsylvania   \n1914           RI  total  2010   1052669.0          Rhode Island   \n1925           SC  total  2010   4636361.0        South Carolina   \n2010           SD  total  2010    816211.0          South Dakota   \n2021           TN  total  2010   6356683.0             Tennessee   \n2106           TX  total  2010  25245178.0                 Texas   \n2117           UT  total  2010   2774424.0                  Utah   \n2202           VT  total  2010    625793.0               Vermont   \n2213           VA  total  2010   8024417.0              Virginia   \n2298           WA  total  2010   6742256.0            Washington   \n2309           WV  total  2010   1854146.0         West Virginia   \n2394           WI  total  2010   5689060.0             Wisconsin   \n2405           WY  total  2010    564222.0               Wyoming   \n2470           PR  total  2010   3721208.0           Puerto Rico   \n\n      area (sq. mi)      density  \n3           52423.0    91.287603  \n91         656425.0     1.087509  \n101        114006.0    56.214497  \n189         53182.0    54.948667  \n197        163707.0   228.051342  \n283        104100.0    48.493718  \n293          5544.0   645.600649  \n379          1954.0   460.445752  \n389            68.0  8898.897059  \n475         65758.0   286.597129  \n485         59441.0   163.409902  \n570         10932.0   124.746707  \n581         83574.0    18.794338  \n666         57918.0   221.687472  \n677         36420.0   178.197831  \n762         56276.0    54.202751  \n773         82282.0    34.745266  \n858         40411.0   107.586994  \n869         51843.0    87.676099  \n954         35387.0    37.509990  \n965         12407.0   466.445797  \n1050        10555.0   621.815538  \n1061        96810.0   102.015794  \n1146        86943.0    61.078373  \n1157        48434.0    61.321530  \n1242        69709.0    86.015622  \n1253       147046.0     6.736171  \n1338        77358.0    23.654153  \n1349       110567.0    24.448796  \n1434         9351.0   140.799273  \n1445         8722.0  1009.253268  \n1530       121593.0    16.982737  \n1541        54475.0   356.094135  \n1626        53821.0   177.617157  \n1637        70704.0     9.537565  \n1722        44828.0   257.549634  \n1733        69903.0    53.778278  \n1818        98386.0    39.001565  \n1829        46058.0   275.966651  \n1914         1545.0   681.339159  \n1925        32007.0   144.854594  \n2010        77121.0    10.583512  \n2021        42146.0   150.825298  \n2106       268601.0    93.987655  \n2117        84904.0    32.677188  \n2202         9615.0    65.085075  \n2213        42769.0   187.622273  \n2298        71303.0    94.557817  \n2309        24231.0    76.519582  \n2394        65503.0    86.851900  \n2405        97818.0     5.768079  \n2470         3515.0  1058.665149  ",
      "text/html": "<div>\n<style scoped>\n    .dataframe tbody tr th:only-of-type {\n        vertical-align: middle;\n    }\n\n    .dataframe tbody tr th {\n        vertical-align: top;\n    }\n\n    .dataframe thead th {\n        text-align: right;\n    }\n</style>\n<table border=\"1\" class=\"dataframe\">\n  <thead>\n    <tr style=\"text-align: right;\">\n      <th></th>\n      <th>state/region</th>\n      <th>ages</th>\n      <th>year</th>\n      <th>population</th>\n      <th>state</th>\n      <th>area (sq. mi)</th>\n      <th>density</th>\n    </tr>\n  </thead>\n  <tbody>\n    <tr>\n      <th>3</th>\n      <td>AL</td>\n      <td>total</td>\n      <td>2010</td>\n      <td>4785570.0</td>\n      <td>Alabama</td>\n      <td>52423.0</td>\n      <td>91.287603</td>\n    </tr>\n    <tr>\n      <th>91</th>\n      <td>AK</td>\n      <td>total</td>\n      <td>2010</td>\n      <td>713868.0</td>\n      <td>Alaska</td>\n      <td>656425.0</td>\n      <td>1.087509</td>\n    </tr>\n    <tr>\n      <th>101</th>\n      <td>AZ</td>\n      <td>total</td>\n      <td>2010</td>\n      <td>6408790.0</td>\n      <td>Arizona</td>\n      <td>114006.0</td>\n      <td>56.214497</td>\n    </tr>\n    <tr>\n      <th>189</th>\n      <td>AR</td>\n      <td>total</td>\n      <td>2010</td>\n      <td>2922280.0</td>\n      <td>Arkansas</td>\n      <td>53182.0</td>\n      <td>54.948667</td>\n    </tr>\n    <tr>\n      <th>197</th>\n      <td>CA</td>\n      <td>total</td>\n      <td>2010</td>\n      <td>37333601.0</td>\n      <td>California</td>\n      <td>163707.0</td>\n      <td>228.051342</td>\n    </tr>\n    <tr>\n      <th>283</th>\n      <td>CO</td>\n      <td>total</td>\n      <td>2010</td>\n      <td>5048196.0</td>\n      <td>Colorado</td>\n      <td>104100.0</td>\n      <td>48.493718</td>\n    </tr>\n    <tr>\n      <th>293</th>\n      <td>CT</td>\n      <td>total</td>\n      <td>2010</td>\n      <td>3579210.0</td>\n      <td>Connecticut</td>\n      <td>5544.0</td>\n      <td>645.600649</td>\n    </tr>\n    <tr>\n      <th>379</th>\n      <td>DE</td>\n      <td>total</td>\n      <td>2010</td>\n      <td>899711.0</td>\n      <td>Delaware</td>\n      <td>1954.0</td>\n      <td>460.445752</td>\n    </tr>\n    <tr>\n      <th>389</th>\n      <td>DC</td>\n      <td>total</td>\n      <td>2010</td>\n      <td>605125.0</td>\n      <td>District of Columbia</td>\n      <td>68.0</td>\n      <td>8898.897059</td>\n    </tr>\n    <tr>\n      <th>475</th>\n      <td>FL</td>\n      <td>total</td>\n      <td>2010</td>\n      <td>18846054.0</td>\n      <td>Florida</td>\n      <td>65758.0</td>\n      <td>286.597129</td>\n    </tr>\n    <tr>\n      <th>485</th>\n      <td>GA</td>\n      <td>total</td>\n      <td>2010</td>\n      <td>9713248.0</td>\n      <td>Georgia</td>\n      <td>59441.0</td>\n      <td>163.409902</td>\n    </tr>\n    <tr>\n      <th>570</th>\n      <td>HI</td>\n      <td>total</td>\n      <td>2010</td>\n      <td>1363731.0</td>\n      <td>Hawaii</td>\n      <td>10932.0</td>\n      <td>124.746707</td>\n    </tr>\n    <tr>\n      <th>581</th>\n      <td>ID</td>\n      <td>total</td>\n      <td>2010</td>\n      <td>1570718.0</td>\n      <td>Idaho</td>\n      <td>83574.0</td>\n      <td>18.794338</td>\n    </tr>\n    <tr>\n      <th>666</th>\n      <td>IL</td>\n      <td>total</td>\n      <td>2010</td>\n      <td>12839695.0</td>\n      <td>Illinois</td>\n      <td>57918.0</td>\n      <td>221.687472</td>\n    </tr>\n    <tr>\n      <th>677</th>\n      <td>IN</td>\n      <td>total</td>\n      <td>2010</td>\n      <td>6489965.0</td>\n      <td>Indiana</td>\n      <td>36420.0</td>\n      <td>178.197831</td>\n    </tr>\n    <tr>\n      <th>762</th>\n      <td>IA</td>\n      <td>total</td>\n      <td>2010</td>\n      <td>3050314.0</td>\n      <td>Iowa</td>\n      <td>56276.0</td>\n      <td>54.202751</td>\n    </tr>\n    <tr>\n      <th>773</th>\n      <td>KS</td>\n      <td>total</td>\n      <td>2010</td>\n      <td>2858910.0</td>\n      <td>Kansas</td>\n      <td>82282.0</td>\n      <td>34.745266</td>\n    </tr>\n    <tr>\n      <th>858</th>\n      <td>KY</td>\n      <td>total</td>\n      <td>2010</td>\n      <td>4347698.0</td>\n      <td>Kentucky</td>\n      <td>40411.0</td>\n      <td>107.586994</td>\n    </tr>\n    <tr>\n      <th>869</th>\n      <td>LA</td>\n      <td>total</td>\n      <td>2010</td>\n      <td>4545392.0</td>\n      <td>Louisiana</td>\n      <td>51843.0</td>\n      <td>87.676099</td>\n    </tr>\n    <tr>\n      <th>954</th>\n      <td>ME</td>\n      <td>total</td>\n      <td>2010</td>\n      <td>1327366.0</td>\n      <td>Maine</td>\n      <td>35387.0</td>\n      <td>37.509990</td>\n    </tr>\n    <tr>\n      <th>965</th>\n      <td>MD</td>\n      <td>total</td>\n      <td>2010</td>\n      <td>5787193.0</td>\n      <td>Maryland</td>\n      <td>12407.0</td>\n      <td>466.445797</td>\n    </tr>\n    <tr>\n      <th>1050</th>\n      <td>MA</td>\n      <td>total</td>\n      <td>2010</td>\n      <td>6563263.0</td>\n      <td>Massachusetts</td>\n      <td>10555.0</td>\n      <td>621.815538</td>\n    </tr>\n    <tr>\n      <th>1061</th>\n      <td>MI</td>\n      <td>total</td>\n      <td>2010</td>\n      <td>9876149.0</td>\n      <td>Michigan</td>\n      <td>96810.0</td>\n      <td>102.015794</td>\n    </tr>\n    <tr>\n      <th>1146</th>\n      <td>MN</td>\n      <td>total</td>\n      <td>2010</td>\n      <td>5310337.0</td>\n      <td>Minnesota</td>\n      <td>86943.0</td>\n      <td>61.078373</td>\n    </tr>\n    <tr>\n      <th>1157</th>\n      <td>MS</td>\n      <td>total</td>\n      <td>2010</td>\n      <td>2970047.0</td>\n      <td>Mississippi</td>\n      <td>48434.0</td>\n      <td>61.321530</td>\n    </tr>\n    <tr>\n      <th>1242</th>\n      <td>MO</td>\n      <td>total</td>\n      <td>2010</td>\n      <td>5996063.0</td>\n      <td>Missouri</td>\n      <td>69709.0</td>\n      <td>86.015622</td>\n    </tr>\n    <tr>\n      <th>1253</th>\n      <td>MT</td>\n      <td>total</td>\n      <td>2010</td>\n      <td>990527.0</td>\n      <td>Montana</td>\n      <td>147046.0</td>\n      <td>6.736171</td>\n    </tr>\n    <tr>\n      <th>1338</th>\n      <td>NE</td>\n      <td>total</td>\n      <td>2010</td>\n      <td>1829838.0</td>\n      <td>Nebraska</td>\n      <td>77358.0</td>\n      <td>23.654153</td>\n    </tr>\n    <tr>\n      <th>1349</th>\n      <td>NV</td>\n      <td>total</td>\n      <td>2010</td>\n      <td>2703230.0</td>\n      <td>Nevada</td>\n      <td>110567.0</td>\n      <td>24.448796</td>\n    </tr>\n    <tr>\n      <th>1434</th>\n      <td>NH</td>\n      <td>total</td>\n      <td>2010</td>\n      <td>1316614.0</td>\n      <td>New Hampshire</td>\n      <td>9351.0</td>\n      <td>140.799273</td>\n    </tr>\n    <tr>\n      <th>1445</th>\n      <td>NJ</td>\n      <td>total</td>\n      <td>2010</td>\n      <td>8802707.0</td>\n      <td>New Jersey</td>\n      <td>8722.0</td>\n      <td>1009.253268</td>\n    </tr>\n    <tr>\n      <th>1530</th>\n      <td>NM</td>\n      <td>total</td>\n      <td>2010</td>\n      <td>2064982.0</td>\n      <td>New Mexico</td>\n      <td>121593.0</td>\n      <td>16.982737</td>\n    </tr>\n    <tr>\n      <th>1541</th>\n      <td>NY</td>\n      <td>total</td>\n      <td>2010</td>\n      <td>19398228.0</td>\n      <td>New York</td>\n      <td>54475.0</td>\n      <td>356.094135</td>\n    </tr>\n    <tr>\n      <th>1626</th>\n      <td>NC</td>\n      <td>total</td>\n      <td>2010</td>\n      <td>9559533.0</td>\n      <td>North Carolina</td>\n      <td>53821.0</td>\n      <td>177.617157</td>\n    </tr>\n    <tr>\n      <th>1637</th>\n      <td>ND</td>\n      <td>total</td>\n      <td>2010</td>\n      <td>674344.0</td>\n      <td>North Dakota</td>\n      <td>70704.0</td>\n      <td>9.537565</td>\n    </tr>\n    <tr>\n      <th>1722</th>\n      <td>OH</td>\n      <td>total</td>\n      <td>2010</td>\n      <td>11545435.0</td>\n      <td>Ohio</td>\n      <td>44828.0</td>\n      <td>257.549634</td>\n    </tr>\n    <tr>\n      <th>1733</th>\n      <td>OK</td>\n      <td>total</td>\n      <td>2010</td>\n      <td>3759263.0</td>\n      <td>Oklahoma</td>\n      <td>69903.0</td>\n      <td>53.778278</td>\n    </tr>\n    <tr>\n      <th>1818</th>\n      <td>OR</td>\n      <td>total</td>\n      <td>2010</td>\n      <td>3837208.0</td>\n      <td>Oregon</td>\n      <td>98386.0</td>\n      <td>39.001565</td>\n    </tr>\n    <tr>\n      <th>1829</th>\n      <td>PA</td>\n      <td>total</td>\n      <td>2010</td>\n      <td>12710472.0</td>\n      <td>Pennsylvania</td>\n      <td>46058.0</td>\n      <td>275.966651</td>\n    </tr>\n    <tr>\n      <th>1914</th>\n      <td>RI</td>\n      <td>total</td>\n      <td>2010</td>\n      <td>1052669.0</td>\n      <td>Rhode Island</td>\n      <td>1545.0</td>\n      <td>681.339159</td>\n    </tr>\n    <tr>\n      <th>1925</th>\n      <td>SC</td>\n      <td>total</td>\n      <td>2010</td>\n      <td>4636361.0</td>\n      <td>South Carolina</td>\n      <td>32007.0</td>\n      <td>144.854594</td>\n    </tr>\n    <tr>\n      <th>2010</th>\n      <td>SD</td>\n      <td>total</td>\n      <td>2010</td>\n      <td>816211.0</td>\n      <td>South Dakota</td>\n      <td>77121.0</td>\n      <td>10.583512</td>\n    </tr>\n    <tr>\n      <th>2021</th>\n      <td>TN</td>\n      <td>total</td>\n      <td>2010</td>\n      <td>6356683.0</td>\n      <td>Tennessee</td>\n      <td>42146.0</td>\n      <td>150.825298</td>\n    </tr>\n    <tr>\n      <th>2106</th>\n      <td>TX</td>\n      <td>total</td>\n      <td>2010</td>\n      <td>25245178.0</td>\n      <td>Texas</td>\n      <td>268601.0</td>\n      <td>93.987655</td>\n    </tr>\n    <tr>\n      <th>2117</th>\n      <td>UT</td>\n      <td>total</td>\n      <td>2010</td>\n      <td>2774424.0</td>\n      <td>Utah</td>\n      <td>84904.0</td>\n      <td>32.677188</td>\n    </tr>\n    <tr>\n      <th>2202</th>\n      <td>VT</td>\n      <td>total</td>\n      <td>2010</td>\n      <td>625793.0</td>\n      <td>Vermont</td>\n      <td>9615.0</td>\n      <td>65.085075</td>\n    </tr>\n    <tr>\n      <th>2213</th>\n      <td>VA</td>\n      <td>total</td>\n      <td>2010</td>\n      <td>8024417.0</td>\n      <td>Virginia</td>\n      <td>42769.0</td>\n      <td>187.622273</td>\n    </tr>\n    <tr>\n      <th>2298</th>\n      <td>WA</td>\n      <td>total</td>\n      <td>2010</td>\n      <td>6742256.0</td>\n      <td>Washington</td>\n      <td>71303.0</td>\n      <td>94.557817</td>\n    </tr>\n    <tr>\n      <th>2309</th>\n      <td>WV</td>\n      <td>total</td>\n      <td>2010</td>\n      <td>1854146.0</td>\n      <td>West Virginia</td>\n      <td>24231.0</td>\n      <td>76.519582</td>\n    </tr>\n    <tr>\n      <th>2394</th>\n      <td>WI</td>\n      <td>total</td>\n      <td>2010</td>\n      <td>5689060.0</td>\n      <td>Wisconsin</td>\n      <td>65503.0</td>\n      <td>86.851900</td>\n    </tr>\n    <tr>\n      <th>2405</th>\n      <td>WY</td>\n      <td>total</td>\n      <td>2010</td>\n      <td>564222.0</td>\n      <td>Wyoming</td>\n      <td>97818.0</td>\n      <td>5.768079</td>\n    </tr>\n    <tr>\n      <th>2470</th>\n      <td>PR</td>\n      <td>total</td>\n      <td>2010</td>\n      <td>3721208.0</td>\n      <td>Puerto Rico</td>\n      <td>3515.0</td>\n      <td>1058.665149</td>\n    </tr>\n  </tbody>\n</table>\n</div>"
     },
     "execution_count": 6,
     "metadata": {},
     "output_type": "execute_result"
    }
   ],
   "source": [
    "#in-class exercise\n",
    "data2010 = final.query(\" year == 2010 & ages == 'total' \")\n",
    "data2010['density'] = data2010['population']/data2010['area (sq. mi)']"
   ],
   "metadata": {
    "collapsed": false,
    "pycharm": {
     "name": "#%%\n"
    }
   }
  },
  {
   "cell_type": "code",
   "execution_count": 7,
   "outputs": [],
   "source": [
    "from xlsxwriter import Workbook\n",
    "\n",
    "# creating file var to store density xlsx file\n",
    "file = pd.ExcelWriter('Density.xlsx', engine = 'xlsxwriter')\n",
    "\n",
    "# converting csv to xlsx\n",
    "data2010.to_excel(file)\n",
    "\n",
    "# saving file\n",
    "file.save()"
   ],
   "metadata": {
    "collapsed": false,
    "pycharm": {
     "name": "#%%\n"
    }
   }
  },
  {
   "cell_type": "markdown",
   "source": [],
   "metadata": {
    "collapsed": false,
    "pycharm": {
     "name": "#%% md\n"
    }
   }
  }
 ],
 "metadata": {
  "kernelspec": {
   "display_name": "Python 3",
   "language": "python",
   "name": "python3"
  },
  "language_info": {
   "codemirror_mode": {
    "name": "ipython",
    "version": 2
   },
   "file_extension": ".py",
   "mimetype": "text/x-python",
   "name": "python",
   "nbconvert_exporter": "python",
   "pygments_lexer": "ipython2",
   "version": "2.7.6"
  }
 },
 "nbformat": 4,
 "nbformat_minor": 0
}