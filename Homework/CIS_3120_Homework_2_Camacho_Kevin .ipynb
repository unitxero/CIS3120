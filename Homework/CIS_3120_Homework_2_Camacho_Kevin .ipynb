{
 "cells": [
  {
   "cell_type": "markdown",
   "id": "3f96f5ca",
   "metadata": {},
   "source": [
    "### CIS3120 Homework 2\n",
    "- Due by April 1st \n",
    "- Submit through the blackboard link\n",
    "- Submit with the notebook file (.ipynb)"
   ]
  },
  {
   "cell_type": "markdown",
   "id": "eac00120",
   "metadata": {},
   "source": [
    "1. Create a Pandas DataFrame from the following lists and set 'labels' as index of this DataFrame. (5 points)\n",
    "\n",
    "name = ['Anastasia', 'Dima', 'Katherine', 'James', 'Emily', 'Michael', 'Matthew', 'Laura', 'Kevin', 'Jonas'] <br>\n",
    "score = [12.5, 9, 16.5, np.nan, 9, 20, 14.5, np.nan, 8, 19] <br>\n",
    "attempts = [1, 3, 2, 3, 2, 3, 1, 1, 2, 1] <br>\n",
    "qualify = ['yes', 'no', 'yes', 'no', 'no', 'yes', 'yes', 'no', 'no', 'yes'] <br>\n",
    "labels = ['a', 'b', 'c', 'd', 'e', 'f', 'g', 'h', 'i', 'j'] "
   ]
  },
  {
   "cell_type": "code",
   "execution_count": 3,
   "id": "68b6cdcd",
   "metadata": {},
   "outputs": [],
   "source": [
    "\n",
    "\n",
    "#Expected output"
   ]
  },
  {
   "cell_type": "code",
   "execution_count": 4,
   "outputs": [
    {
     "data": {
      "text/plain": "        name  score  attempts qualify\na  Anastasia   12.5         1     yes\nb       Dima    9.0         3      no\nc  Katherine   16.5         2     yes\nd      James    NaN         3      no\ne      Emily    9.0         2      no\nf    Michael   20.0         3     yes\ng    Matthew   14.5         1     yes\nh      Laura    NaN         1      no\ni      Kevin    8.0         2      no\nj      Jonas   19.0         1     yes",
      "text/html": "<div>\n<style scoped>\n    .dataframe tbody tr th:only-of-type {\n        vertical-align: middle;\n    }\n\n    .dataframe tbody tr th {\n        vertical-align: top;\n    }\n\n    .dataframe thead th {\n        text-align: right;\n    }\n</style>\n<table border=\"1\" class=\"dataframe\">\n  <thead>\n    <tr style=\"text-align: right;\">\n      <th></th>\n      <th>name</th>\n      <th>score</th>\n      <th>attempts</th>\n      <th>qualify</th>\n    </tr>\n  </thead>\n  <tbody>\n    <tr>\n      <th>a</th>\n      <td>Anastasia</td>\n      <td>12.5</td>\n      <td>1</td>\n      <td>yes</td>\n    </tr>\n    <tr>\n      <th>b</th>\n      <td>Dima</td>\n      <td>9.0</td>\n      <td>3</td>\n      <td>no</td>\n    </tr>\n    <tr>\n      <th>c</th>\n      <td>Katherine</td>\n      <td>16.5</td>\n      <td>2</td>\n      <td>yes</td>\n    </tr>\n    <tr>\n      <th>d</th>\n      <td>James</td>\n      <td>NaN</td>\n      <td>3</td>\n      <td>no</td>\n    </tr>\n    <tr>\n      <th>e</th>\n      <td>Emily</td>\n      <td>9.0</td>\n      <td>2</td>\n      <td>no</td>\n    </tr>\n    <tr>\n      <th>f</th>\n      <td>Michael</td>\n      <td>20.0</td>\n      <td>3</td>\n      <td>yes</td>\n    </tr>\n    <tr>\n      <th>g</th>\n      <td>Matthew</td>\n      <td>14.5</td>\n      <td>1</td>\n      <td>yes</td>\n    </tr>\n    <tr>\n      <th>h</th>\n      <td>Laura</td>\n      <td>NaN</td>\n      <td>1</td>\n      <td>no</td>\n    </tr>\n    <tr>\n      <th>i</th>\n      <td>Kevin</td>\n      <td>8.0</td>\n      <td>2</td>\n      <td>no</td>\n    </tr>\n    <tr>\n      <th>j</th>\n      <td>Jonas</td>\n      <td>19.0</td>\n      <td>1</td>\n      <td>yes</td>\n    </tr>\n  </tbody>\n</table>\n</div>"
     },
     "execution_count": 4,
     "metadata": {},
     "output_type": "execute_result"
    }
   ],
   "source": [
    "import pandas as pd\n",
    "import numpy as np\n",
    "\n",
    "name = ['Anastasia', 'Dima', 'Katherine', 'James', 'Emily', 'Michael', 'Matthew', 'Laura', 'Kevin', 'Jonas']\n",
    "score = [12.5, 9, 16.5, np.nan, 9, 20, 14.5, np.nan, 8, 19]\n",
    "attempts = [1, 3, 2, 3, 2, 3, 1, 1, 2, 1]\n",
    "qualify = ['yes', 'no', 'yes', 'no', 'no', 'yes', 'yes', 'no', 'no', 'yes']\n",
    "labels = ['a', 'b', 'c', 'd', 'e', 'f', 'g', 'h', 'i', 'j']\n",
    "\n",
    "df = pd.DataFrame(list(zip(name, score, attempts, qualify)), columns=['name', 'score', 'attempts','qualify'], index= labels )\n",
    "df"
   ],
   "metadata": {
    "collapsed": false,
    "pycharm": {
     "name": "#%%\n"
    }
   }
  },
  {
   "cell_type": "markdown",
   "id": "7ee0ce59",
   "metadata": {},
   "source": [
    "Complete the following questions based on the DataFrame you have created from the previous question (#1) (40 points)\n",
    "\n",
    "1.1 Get the first 3 rows from the DataFrame, and save selected data in a new dataframe.  (5 points)\n",
    "\n",
    "1.2 Select the rows where the number of attempts in the examination is less than 2 and score greater than 15. (10 points)\n",
    "\n",
    "1.3 Find students whose score are missing (i.e. is NaN) and the number of attempts they have done. (15 points)\n",
    "\n",
    "1.4 Find average number of attempts for qualified students and not qualified students. (10 points)"
   ]
  },
  {
   "cell_type": "code",
   "execution_count": 5,
   "id": "543d0b41",
   "metadata": {},
   "outputs": [
    {
     "data": {
      "text/plain": "        name  score  attempts qualify\na  Anastasia   12.5         1     yes\nb       Dima    9.0         3      no\nc  Katherine   16.5         2     yes",
      "text/html": "<div>\n<style scoped>\n    .dataframe tbody tr th:only-of-type {\n        vertical-align: middle;\n    }\n\n    .dataframe tbody tr th {\n        vertical-align: top;\n    }\n\n    .dataframe thead th {\n        text-align: right;\n    }\n</style>\n<table border=\"1\" class=\"dataframe\">\n  <thead>\n    <tr style=\"text-align: right;\">\n      <th></th>\n      <th>name</th>\n      <th>score</th>\n      <th>attempts</th>\n      <th>qualify</th>\n    </tr>\n  </thead>\n  <tbody>\n    <tr>\n      <th>a</th>\n      <td>Anastasia</td>\n      <td>12.5</td>\n      <td>1</td>\n      <td>yes</td>\n    </tr>\n    <tr>\n      <th>b</th>\n      <td>Dima</td>\n      <td>9.0</td>\n      <td>3</td>\n      <td>no</td>\n    </tr>\n    <tr>\n      <th>c</th>\n      <td>Katherine</td>\n      <td>16.5</td>\n      <td>2</td>\n      <td>yes</td>\n    </tr>\n  </tbody>\n</table>\n</div>"
     },
     "execution_count": 5,
     "metadata": {},
     "output_type": "execute_result"
    }
   ],
   "source": [
    "# 1.1 Get the first 3 rows from the DataFrame, and save selected data in a new dataframe.  (5 points)\n",
    "\n",
    "# using iloc to get the top 3 rows of the df dataframe\n",
    "#df.iloc[0:3]\n",
    "\n",
    "top_3 = df.iloc[0:3]\n",
    "top_3"
   ]
  },
  {
   "cell_type": "code",
   "execution_count": 6,
   "outputs": [
    {
     "data": {
      "text/plain": "    name  score  attempts qualify\nj  Jonas   19.0         1     yes",
      "text/html": "<div>\n<style scoped>\n    .dataframe tbody tr th:only-of-type {\n        vertical-align: middle;\n    }\n\n    .dataframe tbody tr th {\n        vertical-align: top;\n    }\n\n    .dataframe thead th {\n        text-align: right;\n    }\n</style>\n<table border=\"1\" class=\"dataframe\">\n  <thead>\n    <tr style=\"text-align: right;\">\n      <th></th>\n      <th>name</th>\n      <th>score</th>\n      <th>attempts</th>\n      <th>qualify</th>\n    </tr>\n  </thead>\n  <tbody>\n    <tr>\n      <th>j</th>\n      <td>Jonas</td>\n      <td>19.0</td>\n      <td>1</td>\n      <td>yes</td>\n    </tr>\n  </tbody>\n</table>\n</div>"
     },
     "execution_count": 6,
     "metadata": {},
     "output_type": "execute_result"
    }
   ],
   "source": [
    "# 1.2 Select the rows where the number of attempts in the examination is less than 2 and score greater than 15. (10 points)\n",
    "\n",
    "#df\n",
    "df[(df['attempts'] < 2) & (df['score'] > 15)]"
   ],
   "metadata": {
    "collapsed": false,
    "pycharm": {
     "name": "#%%\n"
    }
   }
  },
  {
   "cell_type": "code",
   "execution_count": 7,
   "outputs": [
    {
     "data": {
      "text/plain": "    name  score  attempts qualify\nd  James    NaN         3      no\nh  Laura    NaN         1      no",
      "text/html": "<div>\n<style scoped>\n    .dataframe tbody tr th:only-of-type {\n        vertical-align: middle;\n    }\n\n    .dataframe tbody tr th {\n        vertical-align: top;\n    }\n\n    .dataframe thead th {\n        text-align: right;\n    }\n</style>\n<table border=\"1\" class=\"dataframe\">\n  <thead>\n    <tr style=\"text-align: right;\">\n      <th></th>\n      <th>name</th>\n      <th>score</th>\n      <th>attempts</th>\n      <th>qualify</th>\n    </tr>\n  </thead>\n  <tbody>\n    <tr>\n      <th>d</th>\n      <td>James</td>\n      <td>NaN</td>\n      <td>3</td>\n      <td>no</td>\n    </tr>\n    <tr>\n      <th>h</th>\n      <td>Laura</td>\n      <td>NaN</td>\n      <td>1</td>\n      <td>no</td>\n    </tr>\n  </tbody>\n</table>\n</div>"
     },
     "execution_count": 7,
     "metadata": {},
     "output_type": "execute_result"
    }
   ],
   "source": [
    "# 1.3 Find students whose score are missing (i.e. is NaN) and the number of attempts they have done. (15 points)\n",
    "\n",
    "df[df['score'].isna()]"
   ],
   "metadata": {
    "collapsed": false,
    "pycharm": {
     "name": "#%%\n"
    }
   }
  },
  {
   "cell_type": "code",
   "execution_count": 8,
   "outputs": [],
   "source": [
    "# 1.4 Find average number of attempts for qualified students and not qualified students. (10 points)\n",
    "\n",
    "df_qual = df[(df['qualify'] == 'yes')]\n",
    "df_unqual = df[(df['qualify'] == 'no')]"
   ],
   "metadata": {
    "collapsed": false,
    "pycharm": {
     "name": "#%%\n"
    }
   }
  },
  {
   "cell_type": "code",
   "execution_count": 9,
   "outputs": [
    {
     "data": {
      "text/plain": "        name  score  attempts qualify\na  Anastasia   12.5         1     yes\nc  Katherine   16.5         2     yes\nf    Michael   20.0         3     yes\ng    Matthew   14.5         1     yes\nj      Jonas   19.0         1     yes",
      "text/html": "<div>\n<style scoped>\n    .dataframe tbody tr th:only-of-type {\n        vertical-align: middle;\n    }\n\n    .dataframe tbody tr th {\n        vertical-align: top;\n    }\n\n    .dataframe thead th {\n        text-align: right;\n    }\n</style>\n<table border=\"1\" class=\"dataframe\">\n  <thead>\n    <tr style=\"text-align: right;\">\n      <th></th>\n      <th>name</th>\n      <th>score</th>\n      <th>attempts</th>\n      <th>qualify</th>\n    </tr>\n  </thead>\n  <tbody>\n    <tr>\n      <th>a</th>\n      <td>Anastasia</td>\n      <td>12.5</td>\n      <td>1</td>\n      <td>yes</td>\n    </tr>\n    <tr>\n      <th>c</th>\n      <td>Katherine</td>\n      <td>16.5</td>\n      <td>2</td>\n      <td>yes</td>\n    </tr>\n    <tr>\n      <th>f</th>\n      <td>Michael</td>\n      <td>20.0</td>\n      <td>3</td>\n      <td>yes</td>\n    </tr>\n    <tr>\n      <th>g</th>\n      <td>Matthew</td>\n      <td>14.5</td>\n      <td>1</td>\n      <td>yes</td>\n    </tr>\n    <tr>\n      <th>j</th>\n      <td>Jonas</td>\n      <td>19.0</td>\n      <td>1</td>\n      <td>yes</td>\n    </tr>\n  </tbody>\n</table>\n</div>"
     },
     "execution_count": 9,
     "metadata": {},
     "output_type": "execute_result"
    }
   ],
   "source": [
    "df_qual\n"
   ],
   "metadata": {
    "collapsed": false,
    "pycharm": {
     "name": "#%%\n"
    }
   }
  },
  {
   "cell_type": "code",
   "execution_count": 10,
   "outputs": [
    {
     "data": {
      "text/plain": "1.6"
     },
     "execution_count": 10,
     "metadata": {},
     "output_type": "execute_result"
    }
   ],
   "source": [
    "df_qual['attempts'].mean()\n",
    "# Average for qualified students is 1.6 attempts"
   ],
   "metadata": {
    "collapsed": false,
    "pycharm": {
     "name": "#%%\n"
    }
   }
  },
  {
   "cell_type": "code",
   "execution_count": 11,
   "outputs": [
    {
     "data": {
      "text/plain": "2.2"
     },
     "execution_count": 11,
     "metadata": {},
     "output_type": "execute_result"
    }
   ],
   "source": [
    "df_unqual['attempts'].mean()\n",
    "# Average for non-qualified students is 2.2 attempts"
   ],
   "metadata": {
    "collapsed": false,
    "pycharm": {
     "name": "#%%\n"
    }
   }
  },
  {
   "cell_type": "markdown",
   "id": "80720be6",
   "metadata": {},
   "source": [
    "2. Create a Pandas DataFrame with following lists. (5 points)\n",
    "\n",
    "ord_no = [70001,np.nan,70002,70004,np.nan,70005,np.nan,70010,70003,70012,np.nan,70013] <br>\n",
    "purch_amt = [150.5,270.65,65.26,110.5,948.5,2400.6,5760,1983.43,2480.4,250.45, 75.29,3045.6] <br>\n",
    "ord_date = ['2012-10-05','2012-09-10',np.nan,'2012-08-17','2012-09-10','2012-07-27','2012-09-10',\n",
    "'2012-10-10','2012-10-10','2012-06-27','2012-08-17','2012-04-25'] <br>\n",
    "customer_id'= [3002,3001,3001,3003,3002,3001,3001,3004,3003,3002,3001,3001] <br>\n",
    "salesman_id' = [5002,5003,5001,np.nan,5002,5001,5001,np.nan,5003,5002,5003,np.nan] <br>\n"
   ]
  },
  {
   "cell_type": "code",
   "execution_count": 12,
   "outputs": [],
   "source": [
    "ord_no = [70001,np.nan,70002,70004,np.nan,70005,np.nan,70010,70003,70012,np.nan,70013]\n",
    "purch_amt = [150.5,270.65,65.26,110.5,948.5,2400.6,5760,1983.43,2480.4,250.45, 75.29,3045.6]\n",
    "ord_date = ['2012-10-05','2012-09-10',np.nan,'2012-08-17','2012-09-10','2012-07-27','2012-09-10','2012-10-10','2012-10-10','2012-06-27','2012-08-17','2012-04-25']\n",
    "customer_id = [3002,3001,3001,3003,3002,3001,3001,3004,3003,3002,3001,3001]\n",
    "salesman_id  = [5002,5003,5001,np.nan,5002,5001,5001,np.nan,5003,5002,5003,np.nan]"
   ],
   "metadata": {
    "collapsed": false,
    "pycharm": {
     "name": "#%%\n"
    }
   }
  },
  {
   "cell_type": "code",
   "execution_count": 13,
   "outputs": [
    {
     "data": {
      "text/plain": "     ord_no  purch_amt    ord_date  customer_id  salesman_id\n0   70001.0     150.50  2012-10-05         3002       5002.0\n1       NaN     270.65  2012-09-10         3001       5003.0\n2   70002.0      65.26         NaN         3001       5001.0\n3   70004.0     110.50  2012-08-17         3003          NaN\n4       NaN     948.50  2012-09-10         3002       5002.0\n5   70005.0    2400.60  2012-07-27         3001       5001.0\n6       NaN    5760.00  2012-09-10         3001       5001.0\n7   70010.0    1983.43  2012-10-10         3004          NaN\n8   70003.0    2480.40  2012-10-10         3003       5003.0\n9   70012.0     250.45  2012-06-27         3002       5002.0\n10      NaN      75.29  2012-08-17         3001       5003.0\n11  70013.0    3045.60  2012-04-25         3001          NaN",
      "text/html": "<div>\n<style scoped>\n    .dataframe tbody tr th:only-of-type {\n        vertical-align: middle;\n    }\n\n    .dataframe tbody tr th {\n        vertical-align: top;\n    }\n\n    .dataframe thead th {\n        text-align: right;\n    }\n</style>\n<table border=\"1\" class=\"dataframe\">\n  <thead>\n    <tr style=\"text-align: right;\">\n      <th></th>\n      <th>ord_no</th>\n      <th>purch_amt</th>\n      <th>ord_date</th>\n      <th>customer_id</th>\n      <th>salesman_id</th>\n    </tr>\n  </thead>\n  <tbody>\n    <tr>\n      <th>0</th>\n      <td>70001.0</td>\n      <td>150.50</td>\n      <td>2012-10-05</td>\n      <td>3002</td>\n      <td>5002.0</td>\n    </tr>\n    <tr>\n      <th>1</th>\n      <td>NaN</td>\n      <td>270.65</td>\n      <td>2012-09-10</td>\n      <td>3001</td>\n      <td>5003.0</td>\n    </tr>\n    <tr>\n      <th>2</th>\n      <td>70002.0</td>\n      <td>65.26</td>\n      <td>NaN</td>\n      <td>3001</td>\n      <td>5001.0</td>\n    </tr>\n    <tr>\n      <th>3</th>\n      <td>70004.0</td>\n      <td>110.50</td>\n      <td>2012-08-17</td>\n      <td>3003</td>\n      <td>NaN</td>\n    </tr>\n    <tr>\n      <th>4</th>\n      <td>NaN</td>\n      <td>948.50</td>\n      <td>2012-09-10</td>\n      <td>3002</td>\n      <td>5002.0</td>\n    </tr>\n    <tr>\n      <th>5</th>\n      <td>70005.0</td>\n      <td>2400.60</td>\n      <td>2012-07-27</td>\n      <td>3001</td>\n      <td>5001.0</td>\n    </tr>\n    <tr>\n      <th>6</th>\n      <td>NaN</td>\n      <td>5760.00</td>\n      <td>2012-09-10</td>\n      <td>3001</td>\n      <td>5001.0</td>\n    </tr>\n    <tr>\n      <th>7</th>\n      <td>70010.0</td>\n      <td>1983.43</td>\n      <td>2012-10-10</td>\n      <td>3004</td>\n      <td>NaN</td>\n    </tr>\n    <tr>\n      <th>8</th>\n      <td>70003.0</td>\n      <td>2480.40</td>\n      <td>2012-10-10</td>\n      <td>3003</td>\n      <td>5003.0</td>\n    </tr>\n    <tr>\n      <th>9</th>\n      <td>70012.0</td>\n      <td>250.45</td>\n      <td>2012-06-27</td>\n      <td>3002</td>\n      <td>5002.0</td>\n    </tr>\n    <tr>\n      <th>10</th>\n      <td>NaN</td>\n      <td>75.29</td>\n      <td>2012-08-17</td>\n      <td>3001</td>\n      <td>5003.0</td>\n    </tr>\n    <tr>\n      <th>11</th>\n      <td>70013.0</td>\n      <td>3045.60</td>\n      <td>2012-04-25</td>\n      <td>3001</td>\n      <td>NaN</td>\n    </tr>\n  </tbody>\n</table>\n</div>"
     },
     "execution_count": 13,
     "metadata": {},
     "output_type": "execute_result"
    }
   ],
   "source": [
    "# loading up the dataframe with the lists, naming columns\n",
    "\n",
    "df_2 = pd.DataFrame(list(zip(ord_no, purch_amt, ord_date, customer_id, salesman_id)),\n",
    "                    columns=['ord_no', 'purch_amt', 'ord_date', 'customer_id', 'salesman_id'])\n",
    "df_2"
   ],
   "metadata": {
    "collapsed": false,
    "pycharm": {
     "name": "#%%\n"
    }
   }
  },
  {
   "cell_type": "code",
   "execution_count": 14,
   "id": "e1455ef3",
   "metadata": {},
   "outputs": [],
   "source": [
    "\n",
    "\n",
    "#Expected output\n",
    "\n",
    "\n"
   ]
  },
  {
   "cell_type": "markdown",
   "id": "bf85a8d7",
   "metadata": {},
   "source": [
    "Complete the following questions based on the DataFrame you have created from the previous question (#2) (50 points)\n",
    "\n",
    "2.1 Detect missing values of the DataFrame created from #2. Display True or False. (5 points)\n",
    "\n",
    "2.2 Identify the column(s) of the DataFrame which have at least one missing value. (5 points)\n",
    "\n",
    "2.3 Count the number of missing values in each column of the DataFrame. (5 points)\n",
    "\n",
    "2.4 Delete the row(s) of the DataFrame which have missing values in the column 'salesman_id'; replace all NAs in the column 'ord_no' with 0; replace the NA in the column 'ord_date' with value from the previous row. (15 points)\n",
    "\n",
    "2.5 Group the DataFrame by salesman and calculate each salesman's minimum, maximum and mean sales amount. (10 points)\n",
    "\n",
    "2.6 Create a pivot table and find the total sale amount salesman wise and order date wise. (10 points)"
   ]
  },
  {
   "cell_type": "code",
   "execution_count": 15,
   "id": "cef9a5ad",
   "metadata": {},
   "outputs": [
    {
     "data": {
      "text/plain": "    ord_no  purch_amt  ord_date  customer_id  salesman_id\n0    False      False     False        False        False\n1     True      False     False        False        False\n2    False      False      True        False        False\n3    False      False     False        False         True\n4     True      False     False        False        False\n5    False      False     False        False        False\n6     True      False     False        False        False\n7    False      False     False        False         True\n8    False      False     False        False        False\n9    False      False     False        False        False\n10    True      False     False        False        False\n11   False      False     False        False         True",
      "text/html": "<div>\n<style scoped>\n    .dataframe tbody tr th:only-of-type {\n        vertical-align: middle;\n    }\n\n    .dataframe tbody tr th {\n        vertical-align: top;\n    }\n\n    .dataframe thead th {\n        text-align: right;\n    }\n</style>\n<table border=\"1\" class=\"dataframe\">\n  <thead>\n    <tr style=\"text-align: right;\">\n      <th></th>\n      <th>ord_no</th>\n      <th>purch_amt</th>\n      <th>ord_date</th>\n      <th>customer_id</th>\n      <th>salesman_id</th>\n    </tr>\n  </thead>\n  <tbody>\n    <tr>\n      <th>0</th>\n      <td>False</td>\n      <td>False</td>\n      <td>False</td>\n      <td>False</td>\n      <td>False</td>\n    </tr>\n    <tr>\n      <th>1</th>\n      <td>True</td>\n      <td>False</td>\n      <td>False</td>\n      <td>False</td>\n      <td>False</td>\n    </tr>\n    <tr>\n      <th>2</th>\n      <td>False</td>\n      <td>False</td>\n      <td>True</td>\n      <td>False</td>\n      <td>False</td>\n    </tr>\n    <tr>\n      <th>3</th>\n      <td>False</td>\n      <td>False</td>\n      <td>False</td>\n      <td>False</td>\n      <td>True</td>\n    </tr>\n    <tr>\n      <th>4</th>\n      <td>True</td>\n      <td>False</td>\n      <td>False</td>\n      <td>False</td>\n      <td>False</td>\n    </tr>\n    <tr>\n      <th>5</th>\n      <td>False</td>\n      <td>False</td>\n      <td>False</td>\n      <td>False</td>\n      <td>False</td>\n    </tr>\n    <tr>\n      <th>6</th>\n      <td>True</td>\n      <td>False</td>\n      <td>False</td>\n      <td>False</td>\n      <td>False</td>\n    </tr>\n    <tr>\n      <th>7</th>\n      <td>False</td>\n      <td>False</td>\n      <td>False</td>\n      <td>False</td>\n      <td>True</td>\n    </tr>\n    <tr>\n      <th>8</th>\n      <td>False</td>\n      <td>False</td>\n      <td>False</td>\n      <td>False</td>\n      <td>False</td>\n    </tr>\n    <tr>\n      <th>9</th>\n      <td>False</td>\n      <td>False</td>\n      <td>False</td>\n      <td>False</td>\n      <td>False</td>\n    </tr>\n    <tr>\n      <th>10</th>\n      <td>True</td>\n      <td>False</td>\n      <td>False</td>\n      <td>False</td>\n      <td>False</td>\n    </tr>\n    <tr>\n      <th>11</th>\n      <td>False</td>\n      <td>False</td>\n      <td>False</td>\n      <td>False</td>\n      <td>True</td>\n    </tr>\n  </tbody>\n</table>\n</div>"
     },
     "execution_count": 15,
     "metadata": {},
     "output_type": "execute_result"
    }
   ],
   "source": [
    "# 2.1 Detect missing values of the DataFrame created from #2. Display True or False. (5 points)\n",
    "# check to see what values are na in all column\n",
    "df_2.isna()\n"
   ]
  },
  {
   "cell_type": "code",
   "execution_count": 16,
   "outputs": [
    {
     "name": "stdout",
     "output_type": "stream",
     "text": [
      "ord_no          True\n",
      "purch_amt      False\n",
      "ord_date        True\n",
      "customer_id    False\n",
      "salesman_id     True\n",
      "dtype: bool\n"
     ]
    }
   ],
   "source": [
    "# 2.2 Identify the column(s) of the DataFrame which have at least one missing value. (5 points)\n",
    "# check if any column has na values\n",
    "print(df_2.isna().any())\n"
   ],
   "metadata": {
    "collapsed": false,
    "pycharm": {
     "name": "#%%\n"
    }
   }
  },
  {
   "cell_type": "code",
   "execution_count": 17,
   "outputs": [
    {
     "name": "stdout",
     "output_type": "stream",
     "text": [
      "ord_no         4\n",
      "purch_amt      0\n",
      "ord_date       1\n",
      "customer_id    0\n",
      "salesman_id    3\n",
      "dtype: int64\n"
     ]
    }
   ],
   "source": [
    "# 2.3 Count the number of missing values in each column of the DataFrame. (5 points)\n",
    "\n",
    "print(df_2.isna().sum())\n"
   ],
   "metadata": {
    "collapsed": false,
    "pycharm": {
     "name": "#%%\n"
    }
   }
  },
  {
   "cell_type": "code",
   "execution_count": 27,
   "outputs": [],
   "source": [
    "# 2.4 Delete the row(s) of the DataFrame which have missing values in the column 'salesman_id';\n",
    "# replace all NAs in the column 'ord_no' with 0;\n",
    "# replace the NA in the column 'ord_date' with value from the previous row. (15 points)\n",
    "\n",
    "df_2\n"
   ],
   "metadata": {
    "collapsed": false,
    "pycharm": {
     "name": "#%%\n"
    }
   }
  },
  {
   "cell_type": "code",
   "execution_count": 19,
   "outputs": [
    {
     "data": {
      "text/plain": "     ord_no  purch_amt    ord_date  customer_id  salesman_id\n0   70001.0     150.50  2012-10-05         3002       5002.0\n1       NaN     270.65  2012-09-10         3001       5003.0\n2   70002.0      65.26         NaN         3001       5001.0\n4       NaN     948.50  2012-09-10         3002       5002.0\n5   70005.0    2400.60  2012-07-27         3001       5001.0\n6       NaN    5760.00  2012-09-10         3001       5001.0\n8   70003.0    2480.40  2012-10-10         3003       5003.0\n9   70012.0     250.45  2012-06-27         3002       5002.0\n10      NaN      75.29  2012-08-17         3001       5003.0",
      "text/html": "<div>\n<style scoped>\n    .dataframe tbody tr th:only-of-type {\n        vertical-align: middle;\n    }\n\n    .dataframe tbody tr th {\n        vertical-align: top;\n    }\n\n    .dataframe thead th {\n        text-align: right;\n    }\n</style>\n<table border=\"1\" class=\"dataframe\">\n  <thead>\n    <tr style=\"text-align: right;\">\n      <th></th>\n      <th>ord_no</th>\n      <th>purch_amt</th>\n      <th>ord_date</th>\n      <th>customer_id</th>\n      <th>salesman_id</th>\n    </tr>\n  </thead>\n  <tbody>\n    <tr>\n      <th>0</th>\n      <td>70001.0</td>\n      <td>150.50</td>\n      <td>2012-10-05</td>\n      <td>3002</td>\n      <td>5002.0</td>\n    </tr>\n    <tr>\n      <th>1</th>\n      <td>NaN</td>\n      <td>270.65</td>\n      <td>2012-09-10</td>\n      <td>3001</td>\n      <td>5003.0</td>\n    </tr>\n    <tr>\n      <th>2</th>\n      <td>70002.0</td>\n      <td>65.26</td>\n      <td>NaN</td>\n      <td>3001</td>\n      <td>5001.0</td>\n    </tr>\n    <tr>\n      <th>4</th>\n      <td>NaN</td>\n      <td>948.50</td>\n      <td>2012-09-10</td>\n      <td>3002</td>\n      <td>5002.0</td>\n    </tr>\n    <tr>\n      <th>5</th>\n      <td>70005.0</td>\n      <td>2400.60</td>\n      <td>2012-07-27</td>\n      <td>3001</td>\n      <td>5001.0</td>\n    </tr>\n    <tr>\n      <th>6</th>\n      <td>NaN</td>\n      <td>5760.00</td>\n      <td>2012-09-10</td>\n      <td>3001</td>\n      <td>5001.0</td>\n    </tr>\n    <tr>\n      <th>8</th>\n      <td>70003.0</td>\n      <td>2480.40</td>\n      <td>2012-10-10</td>\n      <td>3003</td>\n      <td>5003.0</td>\n    </tr>\n    <tr>\n      <th>9</th>\n      <td>70012.0</td>\n      <td>250.45</td>\n      <td>2012-06-27</td>\n      <td>3002</td>\n      <td>5002.0</td>\n    </tr>\n    <tr>\n      <th>10</th>\n      <td>NaN</td>\n      <td>75.29</td>\n      <td>2012-08-17</td>\n      <td>3001</td>\n      <td>5003.0</td>\n    </tr>\n  </tbody>\n</table>\n</div>"
     },
     "execution_count": 19,
     "metadata": {},
     "output_type": "execute_result"
    }
   ],
   "source": [
    "# Delete the row(s) of the DataFrame which have missing values in the column 'salesman_id'\n",
    "df_2.dropna(how= 'any',subset= ['salesman_id'])\n"
   ],
   "metadata": {
    "collapsed": false,
    "pycharm": {
     "name": "#%%\n"
    }
   }
  },
  {
   "cell_type": "code",
   "execution_count": 31,
   "outputs": [
    {
     "data": {
      "text/plain": "     ord_no  purch_amt    ord_date  customer_id  salesman_id\n0   70001.0     150.50  2012-10-05         3002       5002.0\n1       0.0     270.65  2012-09-10         3001       5003.0\n2   70002.0      65.26  2012-09-10         3001       5001.0\n3   70004.0     110.50  2012-08-17         3003          NaN\n4       0.0     948.50  2012-09-10         3002       5002.0\n5   70005.0    2400.60  2012-07-27         3001       5001.0\n6       0.0    5760.00  2012-09-10         3001       5001.0\n7   70010.0    1983.43  2012-10-10         3004          NaN\n8   70003.0    2480.40  2012-10-10         3003       5003.0\n9   70012.0     250.45  2012-06-27         3002       5002.0\n10      0.0      75.29  2012-08-17         3001       5003.0\n11  70013.0    3045.60  2012-04-25         3001          NaN",
      "text/html": "<div>\n<style scoped>\n    .dataframe tbody tr th:only-of-type {\n        vertical-align: middle;\n    }\n\n    .dataframe tbody tr th {\n        vertical-align: top;\n    }\n\n    .dataframe thead th {\n        text-align: right;\n    }\n</style>\n<table border=\"1\" class=\"dataframe\">\n  <thead>\n    <tr style=\"text-align: right;\">\n      <th></th>\n      <th>ord_no</th>\n      <th>purch_amt</th>\n      <th>ord_date</th>\n      <th>customer_id</th>\n      <th>salesman_id</th>\n    </tr>\n  </thead>\n  <tbody>\n    <tr>\n      <th>0</th>\n      <td>70001.0</td>\n      <td>150.50</td>\n      <td>2012-10-05</td>\n      <td>3002</td>\n      <td>5002.0</td>\n    </tr>\n    <tr>\n      <th>1</th>\n      <td>0.0</td>\n      <td>270.65</td>\n      <td>2012-09-10</td>\n      <td>3001</td>\n      <td>5003.0</td>\n    </tr>\n    <tr>\n      <th>2</th>\n      <td>70002.0</td>\n      <td>65.26</td>\n      <td>2012-09-10</td>\n      <td>3001</td>\n      <td>5001.0</td>\n    </tr>\n    <tr>\n      <th>3</th>\n      <td>70004.0</td>\n      <td>110.50</td>\n      <td>2012-08-17</td>\n      <td>3003</td>\n      <td>NaN</td>\n    </tr>\n    <tr>\n      <th>4</th>\n      <td>0.0</td>\n      <td>948.50</td>\n      <td>2012-09-10</td>\n      <td>3002</td>\n      <td>5002.0</td>\n    </tr>\n    <tr>\n      <th>5</th>\n      <td>70005.0</td>\n      <td>2400.60</td>\n      <td>2012-07-27</td>\n      <td>3001</td>\n      <td>5001.0</td>\n    </tr>\n    <tr>\n      <th>6</th>\n      <td>0.0</td>\n      <td>5760.00</td>\n      <td>2012-09-10</td>\n      <td>3001</td>\n      <td>5001.0</td>\n    </tr>\n    <tr>\n      <th>7</th>\n      <td>70010.0</td>\n      <td>1983.43</td>\n      <td>2012-10-10</td>\n      <td>3004</td>\n      <td>NaN</td>\n    </tr>\n    <tr>\n      <th>8</th>\n      <td>70003.0</td>\n      <td>2480.40</td>\n      <td>2012-10-10</td>\n      <td>3003</td>\n      <td>5003.0</td>\n    </tr>\n    <tr>\n      <th>9</th>\n      <td>70012.0</td>\n      <td>250.45</td>\n      <td>2012-06-27</td>\n      <td>3002</td>\n      <td>5002.0</td>\n    </tr>\n    <tr>\n      <th>10</th>\n      <td>0.0</td>\n      <td>75.29</td>\n      <td>2012-08-17</td>\n      <td>3001</td>\n      <td>5003.0</td>\n    </tr>\n    <tr>\n      <th>11</th>\n      <td>70013.0</td>\n      <td>3045.60</td>\n      <td>2012-04-25</td>\n      <td>3001</td>\n      <td>NaN</td>\n    </tr>\n  </tbody>\n</table>\n</div>"
     },
     "execution_count": 31,
     "metadata": {},
     "output_type": "execute_result"
    }
   ],
   "source": [
    "# replace all NAs in the column 'ord_no' with 0;\n",
    "\n",
    "df_2['ord_no'] = df_2['ord_no'].fillna(0)\n",
    "df_2"
   ],
   "metadata": {
    "collapsed": false,
    "pycharm": {
     "name": "#%%\n"
    }
   }
  },
  {
   "cell_type": "code",
   "execution_count": 21,
   "outputs": [
    {
     "data": {
      "text/plain": "     ord_no  purch_amt    ord_date  customer_id  salesman_id\n0   70001.0     150.50  2012-10-05         3002       5002.0\n1       0.0     270.65  2012-09-10         3001       5003.0\n2   70002.0      65.26  2012-09-10         3001       5001.0\n3   70004.0     110.50  2012-08-17         3003          NaN\n4       0.0     948.50  2012-09-10         3002       5002.0\n5   70005.0    2400.60  2012-07-27         3001       5001.0\n6       0.0    5760.00  2012-09-10         3001       5001.0\n7   70010.0    1983.43  2012-10-10         3004          NaN\n8   70003.0    2480.40  2012-10-10         3003       5003.0\n9   70012.0     250.45  2012-06-27         3002       5002.0\n10      0.0      75.29  2012-08-17         3001       5003.0\n11  70013.0    3045.60  2012-04-25         3001          NaN",
      "text/html": "<div>\n<style scoped>\n    .dataframe tbody tr th:only-of-type {\n        vertical-align: middle;\n    }\n\n    .dataframe tbody tr th {\n        vertical-align: top;\n    }\n\n    .dataframe thead th {\n        text-align: right;\n    }\n</style>\n<table border=\"1\" class=\"dataframe\">\n  <thead>\n    <tr style=\"text-align: right;\">\n      <th></th>\n      <th>ord_no</th>\n      <th>purch_amt</th>\n      <th>ord_date</th>\n      <th>customer_id</th>\n      <th>salesman_id</th>\n    </tr>\n  </thead>\n  <tbody>\n    <tr>\n      <th>0</th>\n      <td>70001.0</td>\n      <td>150.50</td>\n      <td>2012-10-05</td>\n      <td>3002</td>\n      <td>5002.0</td>\n    </tr>\n    <tr>\n      <th>1</th>\n      <td>0.0</td>\n      <td>270.65</td>\n      <td>2012-09-10</td>\n      <td>3001</td>\n      <td>5003.0</td>\n    </tr>\n    <tr>\n      <th>2</th>\n      <td>70002.0</td>\n      <td>65.26</td>\n      <td>2012-09-10</td>\n      <td>3001</td>\n      <td>5001.0</td>\n    </tr>\n    <tr>\n      <th>3</th>\n      <td>70004.0</td>\n      <td>110.50</td>\n      <td>2012-08-17</td>\n      <td>3003</td>\n      <td>NaN</td>\n    </tr>\n    <tr>\n      <th>4</th>\n      <td>0.0</td>\n      <td>948.50</td>\n      <td>2012-09-10</td>\n      <td>3002</td>\n      <td>5002.0</td>\n    </tr>\n    <tr>\n      <th>5</th>\n      <td>70005.0</td>\n      <td>2400.60</td>\n      <td>2012-07-27</td>\n      <td>3001</td>\n      <td>5001.0</td>\n    </tr>\n    <tr>\n      <th>6</th>\n      <td>0.0</td>\n      <td>5760.00</td>\n      <td>2012-09-10</td>\n      <td>3001</td>\n      <td>5001.0</td>\n    </tr>\n    <tr>\n      <th>7</th>\n      <td>70010.0</td>\n      <td>1983.43</td>\n      <td>2012-10-10</td>\n      <td>3004</td>\n      <td>NaN</td>\n    </tr>\n    <tr>\n      <th>8</th>\n      <td>70003.0</td>\n      <td>2480.40</td>\n      <td>2012-10-10</td>\n      <td>3003</td>\n      <td>5003.0</td>\n    </tr>\n    <tr>\n      <th>9</th>\n      <td>70012.0</td>\n      <td>250.45</td>\n      <td>2012-06-27</td>\n      <td>3002</td>\n      <td>5002.0</td>\n    </tr>\n    <tr>\n      <th>10</th>\n      <td>0.0</td>\n      <td>75.29</td>\n      <td>2012-08-17</td>\n      <td>3001</td>\n      <td>5003.0</td>\n    </tr>\n    <tr>\n      <th>11</th>\n      <td>70013.0</td>\n      <td>3045.60</td>\n      <td>2012-04-25</td>\n      <td>3001</td>\n      <td>NaN</td>\n    </tr>\n  </tbody>\n</table>\n</div>"
     },
     "execution_count": 21,
     "metadata": {},
     "output_type": "execute_result"
    }
   ],
   "source": [
    "# replace the NA in the column 'ord_date' with value from the previous row. (15 points)\n",
    "\n",
    "df_2['ord_date'] = df_2['ord_date'].fillna(method = 'pad')\n",
    "df_2\n"
   ],
   "metadata": {
    "collapsed": false,
    "pycharm": {
     "name": "#%%\n"
    }
   }
  },
  {
   "cell_type": "code",
   "execution_count": 22,
   "outputs": [
    {
     "data": {
      "text/plain": "            purch_amt                     \n                  min     max         mean\nsalesman_id                               \n5001.0          65.26  5760.0  2741.953333\n5002.0         150.50   948.5   449.816667\n5003.0          75.29  2480.4   942.113333",
      "text/html": "<div>\n<style scoped>\n    .dataframe tbody tr th:only-of-type {\n        vertical-align: middle;\n    }\n\n    .dataframe tbody tr th {\n        vertical-align: top;\n    }\n\n    .dataframe thead tr th {\n        text-align: left;\n    }\n\n    .dataframe thead tr:last-of-type th {\n        text-align: right;\n    }\n</style>\n<table border=\"1\" class=\"dataframe\">\n  <thead>\n    <tr>\n      <th></th>\n      <th colspan=\"3\" halign=\"left\">purch_amt</th>\n    </tr>\n    <tr>\n      <th></th>\n      <th>min</th>\n      <th>max</th>\n      <th>mean</th>\n    </tr>\n    <tr>\n      <th>salesman_id</th>\n      <th></th>\n      <th></th>\n      <th></th>\n    </tr>\n  </thead>\n  <tbody>\n    <tr>\n      <th>5001.0</th>\n      <td>65.26</td>\n      <td>5760.0</td>\n      <td>2741.953333</td>\n    </tr>\n    <tr>\n      <th>5002.0</th>\n      <td>150.50</td>\n      <td>948.5</td>\n      <td>449.816667</td>\n    </tr>\n    <tr>\n      <th>5003.0</th>\n      <td>75.29</td>\n      <td>2480.4</td>\n      <td>942.113333</td>\n    </tr>\n  </tbody>\n</table>\n</div>"
     },
     "execution_count": 22,
     "metadata": {},
     "output_type": "execute_result"
    }
   ],
   "source": [
    "# 2.5 Group the DataFrame by salesman and calculate each salesman's minimum, maximum and mean sales amount. (10 points)\n",
    "\n",
    "df_2.groupby(['salesman_id']).agg({'purch_amt': [min, max, np.mean]})\n"
   ],
   "metadata": {
    "collapsed": false,
    "pycharm": {
     "name": "#%%\n"
    }
   }
  },
  {
   "cell_type": "code",
   "execution_count": 23,
   "outputs": [
    {
     "data": {
      "text/plain": "                        purch_amt\nord_date   salesman_id           \n2012-06-27 5002.0          250.45\n2012-07-27 5001.0         2400.60\n2012-08-17 5003.0           75.29\n2012-09-10 5001.0         2912.63\n           5002.0          948.50\n           5003.0          270.65\n2012-10-05 5002.0          150.50\n2012-10-10 5003.0         2480.40",
      "text/html": "<div>\n<style scoped>\n    .dataframe tbody tr th:only-of-type {\n        vertical-align: middle;\n    }\n\n    .dataframe tbody tr th {\n        vertical-align: top;\n    }\n\n    .dataframe thead th {\n        text-align: right;\n    }\n</style>\n<table border=\"1\" class=\"dataframe\">\n  <thead>\n    <tr style=\"text-align: right;\">\n      <th></th>\n      <th></th>\n      <th>purch_amt</th>\n    </tr>\n    <tr>\n      <th>ord_date</th>\n      <th>salesman_id</th>\n      <th></th>\n    </tr>\n  </thead>\n  <tbody>\n    <tr>\n      <th>2012-06-27</th>\n      <th>5002.0</th>\n      <td>250.45</td>\n    </tr>\n    <tr>\n      <th>2012-07-27</th>\n      <th>5001.0</th>\n      <td>2400.60</td>\n    </tr>\n    <tr>\n      <th>2012-08-17</th>\n      <th>5003.0</th>\n      <td>75.29</td>\n    </tr>\n    <tr>\n      <th rowspan=\"3\" valign=\"top\">2012-09-10</th>\n      <th>5001.0</th>\n      <td>2912.63</td>\n    </tr>\n    <tr>\n      <th>5002.0</th>\n      <td>948.50</td>\n    </tr>\n    <tr>\n      <th>5003.0</th>\n      <td>270.65</td>\n    </tr>\n    <tr>\n      <th>2012-10-05</th>\n      <th>5002.0</th>\n      <td>150.50</td>\n    </tr>\n    <tr>\n      <th>2012-10-10</th>\n      <th>5003.0</th>\n      <td>2480.40</td>\n    </tr>\n  </tbody>\n</table>\n</div>"
     },
     "execution_count": 23,
     "metadata": {},
     "output_type": "execute_result"
    }
   ],
   "source": [
    "# 2.6 Create a pivot table;\n",
    "# find the total sale amount salesman wise and order date wise.\n",
    "\n",
    "df_2.pivot_table('purch_amt', index = ['ord_date', 'salesman_id'])\n"
   ],
   "metadata": {
    "collapsed": false,
    "pycharm": {
     "name": "#%%\n"
    }
   }
  },
  {
   "cell_type": "code",
   "execution_count": 23,
   "outputs": [],
   "source": [],
   "metadata": {
    "collapsed": false,
    "pycharm": {
     "name": "#%%\n"
    }
   }
  }
 ],
 "metadata": {
  "kernelspec": {
   "display_name": "Python 3 (ipykernel)",
   "language": "python",
   "name": "python3"
  },
  "language_info": {
   "codemirror_mode": {
    "name": "ipython",
    "version": 3
   },
   "file_extension": ".py",
   "mimetype": "text/x-python",
   "name": "python",
   "nbconvert_exporter": "python",
   "pygments_lexer": "ipython3",
   "version": "3.9.7"
  }
 },
 "nbformat": 4,
 "nbformat_minor": 5
}